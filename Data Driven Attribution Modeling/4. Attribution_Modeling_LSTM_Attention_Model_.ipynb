{
 "cells": [
  {
   "cell_type": "markdown",
   "metadata": {
    "colab": {},
    "colab_type": "code",
    "id": "PM0PEJqfmNXN"
   },
   "source": [
    "### LSTM and Attention\n",
    "\n",
    "We will build a more advanced model that explicitly accounts for dependencies between the events in a journey. This problem can be framed as a conversion prediction based on the ordered sequence of events, and recurrent neural networks (RNNs) are a common solution for it. We choose to use a basic long short-term memory (LSTM) architecture with 64 hidden units. \n"
   ]
  },
  {
   "cell_type": "code",
   "execution_count": 1,
   "metadata": {
    "colab": {
     "base_uri": "https://localhost:8080/",
     "height": 81
    },
    "colab_type": "code",
    "id": "OSToSJyfiOh3",
    "outputId": "14b8c13b-0ee9-4ffe-d963-59a650afdcd5"
   },
   "outputs": [
    {
     "name": "stderr",
     "output_type": "stream",
     "text": [
      "Using TensorFlow backend.\n"
     ]
    },
    {
     "data": {
      "text/html": [
       "<p style=\"color: red;\">\n",
       "The default version of TensorFlow in Colab will soon switch to TensorFlow 2.x.<br>\n",
       "We recommend you <a href=\"https://www.tensorflow.org/guide/migrate\" target=\"_blank\">upgrade</a> now \n",
       "or ensure your notebook will continue to use TensorFlow 1.x via the <code>%tensorflow_version 1.x</code> magic:\n",
       "<a href=\"https://colab.research.google.com/notebooks/tensorflow_version.ipynb\" target=\"_blank\">more info</a>.</p>\n"
      ],
      "text/plain": [
       "<IPython.core.display.HTML object>"
      ]
     },
     "metadata": {
      "tags": []
     },
     "output_type": "display_data"
    }
   ],
   "source": [
    "import pandas as pd\n",
    "import matplotlib.pyplot as plt \n",
    "import numpy as np\n",
    "import os\n",
    "\n",
    "from sklearn.utils import resample\n",
    "from sklearn.preprocessing import MinMaxScaler\n",
    "from sklearn.model_selection import train_test_split\n",
    "from sklearn.linear_model import LogisticRegression\n",
    "\n",
    "import keras\n",
    "\n",
    "import warnings\n",
    "warnings.filterwarnings('ignore')\n",
    "\n",
    "plt.style.use('ggplot')"
   ]
  },
  {
   "cell_type": "code",
   "execution_count": 2,
   "metadata": {
    "colab": {
     "base_uri": "https://localhost:8080/",
     "height": 123
    },
    "colab_type": "code",
    "id": "MgbXW27Jklb5",
    "outputId": "353c2f1e-3a9b-4a25-8fae-490c2dfbefa4"
   },
   "outputs": [
    {
     "name": "stdout",
     "output_type": "stream",
     "text": [
      "Go to this URL in a browser: https://accounts.google.com/o/oauth2/auth?client_id=947318989803-6bn6qk8qdgf4n4g3pfee6491hc0brc4i.apps.googleusercontent.com&redirect_uri=urn%3aietf%3awg%3aoauth%3a2.0%3aoob&response_type=code&scope=email%20https%3a%2f%2fwww.googleapis.com%2fauth%2fdocs.test%20https%3a%2f%2fwww.googleapis.com%2fauth%2fdrive%20https%3a%2f%2fwww.googleapis.com%2fauth%2fdrive.photos.readonly%20https%3a%2f%2fwww.googleapis.com%2fauth%2fpeopleapi.readonly\n",
      "\n",
      "Enter your authorization code:\n",
      "··········\n",
      "Mounted at /content/drive/\n"
     ]
    }
   ],
   "source": [
    "from google.colab import drive\n",
    "drive.mount('/content/drive/')"
   ]
  },
  {
   "cell_type": "code",
   "execution_count": 0,
   "metadata": {
    "colab": {},
    "colab_type": "code",
    "id": "qfk11_fxiOiA"
   },
   "outputs": [],
   "source": [
    "#df_Criteo_Attribution = pd.read_csv(r'/content/Criteo_Attribution_data.csv', engine='python')\n",
    "\n",
    "data_file = '/content/drive/My Drive/Digital Marketing/Attribution Data/criteo_attribution_dataset.tsv.gz'\n",
    "df_Criteo_Attribution = pd.read_csv(data_file, sep='\\t', compression='gzip')"
   ]
  },
  {
   "cell_type": "code",
   "execution_count": 4,
   "metadata": {
    "colab": {
     "base_uri": "https://localhost:8080/",
     "height": 225
    },
    "colab_type": "code",
    "id": "pdtoe06vr6-0",
    "outputId": "d0a8b402-ed91-460d-b853-8225cc64ed10"
   },
   "outputs": [
    {
     "data": {
      "text/html": [
       "<div>\n",
       "<style scoped>\n",
       "    .dataframe tbody tr th:only-of-type {\n",
       "        vertical-align: middle;\n",
       "    }\n",
       "\n",
       "    .dataframe tbody tr th {\n",
       "        vertical-align: top;\n",
       "    }\n",
       "\n",
       "    .dataframe thead th {\n",
       "        text-align: right;\n",
       "    }\n",
       "</style>\n",
       "<table border=\"1\" class=\"dataframe\">\n",
       "  <thead>\n",
       "    <tr style=\"text-align: right;\">\n",
       "      <th></th>\n",
       "      <th>timestamp</th>\n",
       "      <th>uid</th>\n",
       "      <th>campaign</th>\n",
       "      <th>conversion</th>\n",
       "      <th>conversion_timestamp</th>\n",
       "      <th>conversion_id</th>\n",
       "      <th>attribution</th>\n",
       "      <th>click</th>\n",
       "      <th>click_pos</th>\n",
       "      <th>click_nb</th>\n",
       "      <th>cost</th>\n",
       "      <th>cpo</th>\n",
       "      <th>time_since_last_click</th>\n",
       "      <th>cat1</th>\n",
       "      <th>cat2</th>\n",
       "      <th>cat3</th>\n",
       "      <th>cat4</th>\n",
       "      <th>cat5</th>\n",
       "      <th>cat6</th>\n",
       "      <th>cat7</th>\n",
       "      <th>cat8</th>\n",
       "      <th>cat9</th>\n",
       "    </tr>\n",
       "  </thead>\n",
       "  <tbody>\n",
       "    <tr>\n",
       "      <th>0</th>\n",
       "      <td>0</td>\n",
       "      <td>20073966</td>\n",
       "      <td>22589171</td>\n",
       "      <td>0</td>\n",
       "      <td>-1</td>\n",
       "      <td>-1</td>\n",
       "      <td>0</td>\n",
       "      <td>0</td>\n",
       "      <td>-1</td>\n",
       "      <td>-1</td>\n",
       "      <td>0.000010</td>\n",
       "      <td>0.390794</td>\n",
       "      <td>-1</td>\n",
       "      <td>5824233</td>\n",
       "      <td>9312274</td>\n",
       "      <td>3490278</td>\n",
       "      <td>29196072</td>\n",
       "      <td>11409686</td>\n",
       "      <td>1973606</td>\n",
       "      <td>25162884</td>\n",
       "      <td>29196072</td>\n",
       "      <td>29196072</td>\n",
       "    </tr>\n",
       "    <tr>\n",
       "      <th>1</th>\n",
       "      <td>2</td>\n",
       "      <td>24607497</td>\n",
       "      <td>884761</td>\n",
       "      <td>0</td>\n",
       "      <td>-1</td>\n",
       "      <td>-1</td>\n",
       "      <td>0</td>\n",
       "      <td>0</td>\n",
       "      <td>-1</td>\n",
       "      <td>-1</td>\n",
       "      <td>0.000010</td>\n",
       "      <td>0.059600</td>\n",
       "      <td>423858</td>\n",
       "      <td>30763035</td>\n",
       "      <td>9312274</td>\n",
       "      <td>14584482</td>\n",
       "      <td>29196072</td>\n",
       "      <td>11409686</td>\n",
       "      <td>1973606</td>\n",
       "      <td>22644417</td>\n",
       "      <td>9312274</td>\n",
       "      <td>21091111</td>\n",
       "    </tr>\n",
       "    <tr>\n",
       "      <th>2</th>\n",
       "      <td>2</td>\n",
       "      <td>28474333</td>\n",
       "      <td>18975823</td>\n",
       "      <td>0</td>\n",
       "      <td>-1</td>\n",
       "      <td>-1</td>\n",
       "      <td>0</td>\n",
       "      <td>0</td>\n",
       "      <td>-1</td>\n",
       "      <td>-1</td>\n",
       "      <td>0.000183</td>\n",
       "      <td>0.149706</td>\n",
       "      <td>8879</td>\n",
       "      <td>138937</td>\n",
       "      <td>9312274</td>\n",
       "      <td>10769841</td>\n",
       "      <td>29196072</td>\n",
       "      <td>5824237</td>\n",
       "      <td>138937</td>\n",
       "      <td>1795451</td>\n",
       "      <td>29196072</td>\n",
       "      <td>15351056</td>\n",
       "    </tr>\n",
       "    <tr>\n",
       "      <th>3</th>\n",
       "      <td>3</td>\n",
       "      <td>7306395</td>\n",
       "      <td>29427842</td>\n",
       "      <td>1</td>\n",
       "      <td>1449193</td>\n",
       "      <td>3063962</td>\n",
       "      <td>0</td>\n",
       "      <td>1</td>\n",
       "      <td>0</td>\n",
       "      <td>7</td>\n",
       "      <td>0.000094</td>\n",
       "      <td>0.154785</td>\n",
       "      <td>-1</td>\n",
       "      <td>28928366</td>\n",
       "      <td>26597095</td>\n",
       "      <td>12435261</td>\n",
       "      <td>23549932</td>\n",
       "      <td>5824237</td>\n",
       "      <td>1973606</td>\n",
       "      <td>9180723</td>\n",
       "      <td>29841067</td>\n",
       "      <td>29196072</td>\n",
       "    </tr>\n",
       "    <tr>\n",
       "      <th>4</th>\n",
       "      <td>3</td>\n",
       "      <td>25357769</td>\n",
       "      <td>13365547</td>\n",
       "      <td>0</td>\n",
       "      <td>-1</td>\n",
       "      <td>-1</td>\n",
       "      <td>0</td>\n",
       "      <td>0</td>\n",
       "      <td>-1</td>\n",
       "      <td>-1</td>\n",
       "      <td>0.000032</td>\n",
       "      <td>0.037583</td>\n",
       "      <td>-1</td>\n",
       "      <td>138937</td>\n",
       "      <td>26597094</td>\n",
       "      <td>31616034</td>\n",
       "      <td>29196072</td>\n",
       "      <td>11409684</td>\n",
       "      <td>26597096</td>\n",
       "      <td>4480345</td>\n",
       "      <td>29196072</td>\n",
       "      <td>29196072</td>\n",
       "    </tr>\n",
       "  </tbody>\n",
       "</table>\n",
       "</div>"
      ],
      "text/plain": [
       "   timestamp       uid  campaign  ...      cat7      cat8      cat9\n",
       "0          0  20073966  22589171  ...  25162884  29196072  29196072\n",
       "1          2  24607497    884761  ...  22644417   9312274  21091111\n",
       "2          2  28474333  18975823  ...   1795451  29196072  15351056\n",
       "3          3   7306395  29427842  ...   9180723  29841067  29196072\n",
       "4          3  25357769  13365547  ...   4480345  29196072  29196072\n",
       "\n",
       "[5 rows x 22 columns]"
      ]
     },
     "execution_count": 4,
     "metadata": {
      "tags": []
     },
     "output_type": "execute_result"
    }
   ],
   "source": [
    "df_Criteo_Attribution.head()"
   ]
  },
  {
   "cell_type": "markdown",
   "metadata": {
    "colab_type": "text",
    "id": "Gqz1awfMiOiC"
   },
   "source": [
    "## Data Pre-Processing \n"
   ]
  },
  {
   "cell_type": "code",
   "execution_count": 0,
   "metadata": {
    "colab": {},
    "colab_type": "code",
    "id": "9gz_u3_0iOiD"
   },
   "outputs": [],
   "source": [
    "n_campaigns = 400"
   ]
  },
  {
   "cell_type": "code",
   "execution_count": 0,
   "metadata": {
    "colab": {},
    "colab_type": "code",
    "id": "F9_frG6EiOiG"
   },
   "outputs": [],
   "source": [
    "df_Criteo_Attribution['day'] = np.floor(df_Criteo_Attribution.timestamp / 86400.).astype(int)"
   ]
  },
  {
   "cell_type": "code",
   "execution_count": 0,
   "metadata": {
    "colab": {},
    "colab_type": "code",
    "id": "yjs7NUi_iOiI"
   },
   "outputs": [],
   "source": [
    "def add_derived_columns(df):\n",
    "    df_ext = df.copy()\n",
    "    df_ext['jid'] = df_ext['uid'].map(str) + '_' + df_ext['conversion_id'].map(str)\n",
    "    \n",
    "    min_max_scaler = MinMaxScaler()\n",
    "    for cname in ('timestamp', 'time_since_last_click'):\n",
    "        x = df_ext[cname].values.reshape(-1, 1) \n",
    "        df_ext[cname + '_norm'] = min_max_scaler.fit_transform(x)\n",
    "    \n",
    "    return df_ext"
   ]
  },
  {
   "cell_type": "code",
   "execution_count": 0,
   "metadata": {
    "colab": {},
    "colab_type": "code",
    "id": "7U4uXAz8iOiN"
   },
   "outputs": [],
   "source": [
    "df_Criteo_Attribution = add_derived_columns(df_Criteo_Attribution)"
   ]
  },
  {
   "cell_type": "code",
   "execution_count": 9,
   "metadata": {
    "colab": {
     "base_uri": "https://localhost:8080/",
     "height": 225
    },
    "colab_type": "code",
    "id": "nc8EibdwiOiP",
    "outputId": "b569ecd9-1f18-42d4-910c-2e6650ee41df"
   },
   "outputs": [
    {
     "data": {
      "text/html": [
       "<div>\n",
       "<style scoped>\n",
       "    .dataframe tbody tr th:only-of-type {\n",
       "        vertical-align: middle;\n",
       "    }\n",
       "\n",
       "    .dataframe tbody tr th {\n",
       "        vertical-align: top;\n",
       "    }\n",
       "\n",
       "    .dataframe thead th {\n",
       "        text-align: right;\n",
       "    }\n",
       "</style>\n",
       "<table border=\"1\" class=\"dataframe\">\n",
       "  <thead>\n",
       "    <tr style=\"text-align: right;\">\n",
       "      <th></th>\n",
       "      <th>timestamp</th>\n",
       "      <th>uid</th>\n",
       "      <th>campaign</th>\n",
       "      <th>conversion</th>\n",
       "      <th>conversion_timestamp</th>\n",
       "      <th>conversion_id</th>\n",
       "      <th>attribution</th>\n",
       "      <th>click</th>\n",
       "      <th>click_pos</th>\n",
       "      <th>click_nb</th>\n",
       "      <th>cost</th>\n",
       "      <th>cpo</th>\n",
       "      <th>time_since_last_click</th>\n",
       "      <th>cat1</th>\n",
       "      <th>cat2</th>\n",
       "      <th>cat3</th>\n",
       "      <th>cat4</th>\n",
       "      <th>cat5</th>\n",
       "      <th>cat6</th>\n",
       "      <th>cat7</th>\n",
       "      <th>cat8</th>\n",
       "      <th>cat9</th>\n",
       "      <th>day</th>\n",
       "      <th>jid</th>\n",
       "      <th>timestamp_norm</th>\n",
       "      <th>time_since_last_click_norm</th>\n",
       "    </tr>\n",
       "  </thead>\n",
       "  <tbody>\n",
       "    <tr>\n",
       "      <th>0</th>\n",
       "      <td>0</td>\n",
       "      <td>20073966</td>\n",
       "      <td>22589171</td>\n",
       "      <td>0</td>\n",
       "      <td>-1</td>\n",
       "      <td>-1</td>\n",
       "      <td>0</td>\n",
       "      <td>0</td>\n",
       "      <td>-1</td>\n",
       "      <td>-1</td>\n",
       "      <td>0.000010</td>\n",
       "      <td>0.390794</td>\n",
       "      <td>-1</td>\n",
       "      <td>5824233</td>\n",
       "      <td>9312274</td>\n",
       "      <td>3490278</td>\n",
       "      <td>29196072</td>\n",
       "      <td>11409686</td>\n",
       "      <td>1973606</td>\n",
       "      <td>25162884</td>\n",
       "      <td>29196072</td>\n",
       "      <td>29196072</td>\n",
       "      <td>0</td>\n",
       "      <td>20073966_-1</td>\n",
       "      <td>0.000000e+00</td>\n",
       "      <td>0.000000</td>\n",
       "    </tr>\n",
       "    <tr>\n",
       "      <th>1</th>\n",
       "      <td>2</td>\n",
       "      <td>24607497</td>\n",
       "      <td>884761</td>\n",
       "      <td>0</td>\n",
       "      <td>-1</td>\n",
       "      <td>-1</td>\n",
       "      <td>0</td>\n",
       "      <td>0</td>\n",
       "      <td>-1</td>\n",
       "      <td>-1</td>\n",
       "      <td>0.000010</td>\n",
       "      <td>0.059600</td>\n",
       "      <td>423858</td>\n",
       "      <td>30763035</td>\n",
       "      <td>9312274</td>\n",
       "      <td>14584482</td>\n",
       "      <td>29196072</td>\n",
       "      <td>11409686</td>\n",
       "      <td>1973606</td>\n",
       "      <td>22644417</td>\n",
       "      <td>9312274</td>\n",
       "      <td>21091111</td>\n",
       "      <td>0</td>\n",
       "      <td>24607497_-1</td>\n",
       "      <td>7.487274e-07</td>\n",
       "      <td>0.163526</td>\n",
       "    </tr>\n",
       "    <tr>\n",
       "      <th>2</th>\n",
       "      <td>2</td>\n",
       "      <td>28474333</td>\n",
       "      <td>18975823</td>\n",
       "      <td>0</td>\n",
       "      <td>-1</td>\n",
       "      <td>-1</td>\n",
       "      <td>0</td>\n",
       "      <td>0</td>\n",
       "      <td>-1</td>\n",
       "      <td>-1</td>\n",
       "      <td>0.000183</td>\n",
       "      <td>0.149706</td>\n",
       "      <td>8879</td>\n",
       "      <td>138937</td>\n",
       "      <td>9312274</td>\n",
       "      <td>10769841</td>\n",
       "      <td>29196072</td>\n",
       "      <td>5824237</td>\n",
       "      <td>138937</td>\n",
       "      <td>1795451</td>\n",
       "      <td>29196072</td>\n",
       "      <td>15351056</td>\n",
       "      <td>0</td>\n",
       "      <td>28474333_-1</td>\n",
       "      <td>7.487274e-07</td>\n",
       "      <td>0.003426</td>\n",
       "    </tr>\n",
       "    <tr>\n",
       "      <th>3</th>\n",
       "      <td>3</td>\n",
       "      <td>7306395</td>\n",
       "      <td>29427842</td>\n",
       "      <td>1</td>\n",
       "      <td>1449193</td>\n",
       "      <td>3063962</td>\n",
       "      <td>0</td>\n",
       "      <td>1</td>\n",
       "      <td>0</td>\n",
       "      <td>7</td>\n",
       "      <td>0.000094</td>\n",
       "      <td>0.154785</td>\n",
       "      <td>-1</td>\n",
       "      <td>28928366</td>\n",
       "      <td>26597095</td>\n",
       "      <td>12435261</td>\n",
       "      <td>23549932</td>\n",
       "      <td>5824237</td>\n",
       "      <td>1973606</td>\n",
       "      <td>9180723</td>\n",
       "      <td>29841067</td>\n",
       "      <td>29196072</td>\n",
       "      <td>0</td>\n",
       "      <td>7306395_3063962</td>\n",
       "      <td>1.123091e-06</td>\n",
       "      <td>0.000000</td>\n",
       "    </tr>\n",
       "    <tr>\n",
       "      <th>4</th>\n",
       "      <td>3</td>\n",
       "      <td>25357769</td>\n",
       "      <td>13365547</td>\n",
       "      <td>0</td>\n",
       "      <td>-1</td>\n",
       "      <td>-1</td>\n",
       "      <td>0</td>\n",
       "      <td>0</td>\n",
       "      <td>-1</td>\n",
       "      <td>-1</td>\n",
       "      <td>0.000032</td>\n",
       "      <td>0.037583</td>\n",
       "      <td>-1</td>\n",
       "      <td>138937</td>\n",
       "      <td>26597094</td>\n",
       "      <td>31616034</td>\n",
       "      <td>29196072</td>\n",
       "      <td>11409684</td>\n",
       "      <td>26597096</td>\n",
       "      <td>4480345</td>\n",
       "      <td>29196072</td>\n",
       "      <td>29196072</td>\n",
       "      <td>0</td>\n",
       "      <td>25357769_-1</td>\n",
       "      <td>1.123091e-06</td>\n",
       "      <td>0.000000</td>\n",
       "    </tr>\n",
       "  </tbody>\n",
       "</table>\n",
       "</div>"
      ],
      "text/plain": [
       "   timestamp       uid  ...  timestamp_norm  time_since_last_click_norm\n",
       "0          0  20073966  ...    0.000000e+00                    0.000000\n",
       "1          2  24607497  ...    7.487274e-07                    0.163526\n",
       "2          2  28474333  ...    7.487274e-07                    0.003426\n",
       "3          3   7306395  ...    1.123091e-06                    0.000000\n",
       "4          3  25357769  ...    1.123091e-06                    0.000000\n",
       "\n",
       "[5 rows x 26 columns]"
      ]
     },
     "execution_count": 9,
     "metadata": {
      "tags": []
     },
     "output_type": "execute_result"
    }
   ],
   "source": [
    "df_Criteo_Attribution.head()"
   ]
  },
  {
   "cell_type": "code",
   "execution_count": 0,
   "metadata": {
    "colab": {},
    "colab_type": "code",
    "id": "Y5WnFjT1iOiT"
   },
   "outputs": [],
   "source": [
    "np.random.seed(42)\n",
    "def sample_campaigns(df, n_campaigns):    \n",
    "    campaigns = np.random.choice( df['campaign'].unique(), n_campaigns, replace = False )\n",
    "    return df[ df['campaign'].isin(campaigns) ]\n"
   ]
  },
  {
   "cell_type": "code",
   "execution_count": 0,
   "metadata": {
    "colab": {},
    "colab_type": "code",
    "id": "AaxdGM11iOiW"
   },
   "outputs": [],
   "source": [
    "df_Criteo_Attribution = sample_campaigns(df_Criteo_Attribution, n_campaigns)"
   ]
  },
  {
   "cell_type": "code",
   "execution_count": 12,
   "metadata": {
    "colab": {
     "base_uri": "https://localhost:8080/",
     "height": 34
    },
    "colab_type": "code",
    "id": "ruZtiXbliOiZ",
    "outputId": "aeca8f8f-1fc5-4ab0-8cac-a1d88a4500b9"
   },
   "outputs": [
    {
     "data": {
      "text/plain": [
       "(9889488, 26)"
      ]
     },
     "execution_count": 12,
     "metadata": {
      "tags": []
     },
     "output_type": "execute_result"
    }
   ],
   "source": [
    "df_Criteo_Attribution.shape"
   ]
  },
  {
   "cell_type": "code",
   "execution_count": 0,
   "metadata": {
    "colab": {},
    "colab_type": "code",
    "id": "hvKOPdaoiOid"
   },
   "outputs": [],
   "source": [
    "def filter_journeys_by_length(df, min_touchpoints):\n",
    "    if min_touchpoints <= 1:\n",
    "        return df\n",
    "    else:\n",
    "        grouped = df.groupby(['jid'])['uid'].count().reset_index(name=\"count\")\n",
    "        return df[df['jid'].isin( grouped[grouped['count'] >= min_touchpoints]['jid'].values )]"
   ]
  },
  {
   "cell_type": "code",
   "execution_count": 0,
   "metadata": {
    "colab": {},
    "colab_type": "code",
    "id": "_AN6HmuUiOig"
   },
   "outputs": [],
   "source": [
    "df_Criteo_Attribution = filter_journeys_by_length(df_Criteo_Attribution, 2)"
   ]
  },
  {
   "cell_type": "code",
   "execution_count": 15,
   "metadata": {
    "colab": {
     "base_uri": "https://localhost:8080/",
     "height": 34
    },
    "colab_type": "code",
    "id": "_LjcYtU-iOii",
    "outputId": "8f2e747d-c6a4-4daf-997d-f8d904f9eabe"
   },
   "outputs": [
    {
     "data": {
      "text/plain": [
       "(7405691, 26)"
      ]
     },
     "execution_count": 15,
     "metadata": {
      "tags": []
     },
     "output_type": "execute_result"
    }
   ],
   "source": [
    "df_Criteo_Attribution.shape"
   ]
  },
  {
   "cell_type": "code",
   "execution_count": 0,
   "metadata": {
    "colab": {},
    "colab_type": "code",
    "id": "4OknPzPGiOil"
   },
   "outputs": [],
   "source": [
    "def balance_conversions(df):\n",
    "    df_minority = df[df.conversion == 1]\n",
    "    df_majority = df[df.conversion == 0]\n",
    "    \n",
    "    df_majority_jids = np.array_split(df_majority['jid'].unique(), 100 * df_majority.shape[0]/df_minority.shape[0] )\n",
    "    \n",
    "    df_majority_sampled = pd.DataFrame(data=None, columns=df.columns)\n",
    "    for jid_chunk in df_majority_jids:\n",
    "        df_majority_sampled = pd.concat([df_majority_sampled, df_majority[df_majority.jid.isin(jid_chunk)]])\n",
    "        if df_majority_sampled.shape[0] > df_minority.shape[0]:\n",
    "            break\n",
    "    \n",
    "    return pd.concat([df_majority_sampled, df_minority]).sample(frac=1).reset_index(drop=True)"
   ]
  },
  {
   "cell_type": "code",
   "execution_count": 0,
   "metadata": {
    "colab": {},
    "colab_type": "code",
    "id": "cO3_J-Y8iOio"
   },
   "outputs": [],
   "source": [
    "df_Criteo_Attribution = balance_conversions(df_Criteo_Attribution)"
   ]
  },
  {
   "cell_type": "code",
   "execution_count": 18,
   "metadata": {
    "colab": {
     "base_uri": "https://localhost:8080/",
     "height": 34
    },
    "colab_type": "code",
    "id": "ymgJK8yMiOiq",
    "outputId": "01f86894-b679-414a-d9c2-dbe76d31e771"
   },
   "outputs": [
    {
     "data": {
      "text/plain": [
       "(579774, 26)"
      ]
     },
     "execution_count": 18,
     "metadata": {
      "tags": []
     },
     "output_type": "execute_result"
    }
   ],
   "source": [
    "df_Criteo_Attribution.shape"
   ]
  },
  {
   "cell_type": "code",
   "execution_count": 0,
   "metadata": {
    "colab": {},
    "colab_type": "code",
    "id": "_FgJ9UgUiOit"
   },
   "outputs": [],
   "source": [
    "def map_one_hot(df, column_names, result_column_name):\n",
    "    mapper = {} \n",
    "    for i, col_name in enumerate(column_names):\n",
    "        for val in df[col_name].unique():\n",
    "            mapper[str(val) + str(i)] = len(mapper)\n",
    "         \n",
    "    df_ext = df.copy()\n",
    "    \n",
    "    def one_hot(values):\n",
    "        v = np.zeros( len(mapper) )\n",
    "        for i, val in enumerate(values): \n",
    "            v[ mapper[str(val) + str(i)] ] = 1\n",
    "        return v    \n",
    "    \n",
    "    df_ext[result_column_name] = df_ext[column_names].values.tolist()\n",
    "    df_ext[result_column_name] = df_ext[result_column_name].map(one_hot)\n",
    "    \n",
    "    return df_ext"
   ]
  },
  {
   "cell_type": "code",
   "execution_count": 0,
   "metadata": {
    "colab": {},
    "colab_type": "code",
    "id": "C4QBy7bFiOiv"
   },
   "outputs": [],
   "source": [
    "df_Criteo_Attribution = map_one_hot(df_Criteo_Attribution, ['cat1', 'cat2', 'cat3', 'cat4', 'cat5', 'cat6', 'cat8'], 'cats')"
   ]
  },
  {
   "cell_type": "code",
   "execution_count": 21,
   "metadata": {
    "colab": {
     "base_uri": "https://localhost:8080/",
     "height": 34
    },
    "colab_type": "code",
    "id": "b79nl2OGiOiy",
    "outputId": "22456765-2065-498d-85dd-3836c7142c21"
   },
   "outputs": [
    {
     "data": {
      "text/plain": [
       "array([1., 0., 0., ..., 0., 0., 0.])"
      ]
     },
     "execution_count": 21,
     "metadata": {
      "tags": []
     },
     "output_type": "execute_result"
    }
   ],
   "source": [
    "df_Criteo_Attribution.cats[0]"
   ]
  },
  {
   "cell_type": "code",
   "execution_count": 0,
   "metadata": {
    "colab": {},
    "colab_type": "code",
    "id": "JaCHexePiOi0"
   },
   "outputs": [],
   "source": [
    "df_Criteo_Attribution = map_one_hot(df_Criteo_Attribution, ['campaign'], 'campaigns').sort_values(by=['timestamp_norm'])"
   ]
  },
  {
   "cell_type": "code",
   "execution_count": 23,
   "metadata": {
    "colab": {
     "base_uri": "https://localhost:8080/",
     "height": 34
    },
    "colab_type": "code",
    "id": "wPtS8_Y_iOi4",
    "outputId": "8aaddb20-cbf8-46bd-ef4a-9b6a829509d6"
   },
   "outputs": [
    {
     "data": {
      "text/plain": [
       "(579774, 28)"
      ]
     },
     "execution_count": 23,
     "metadata": {
      "tags": []
     },
     "output_type": "execute_result"
    }
   ],
   "source": [
    "df_Criteo_Attribution.shape"
   ]
  },
  {
   "cell_type": "code",
   "execution_count": 24,
   "metadata": {
    "colab": {
     "base_uri": "https://localhost:8080/",
     "height": 34
    },
    "colab_type": "code",
    "id": "NUkEAHw3iOi7",
    "outputId": "59d527a2-cd8f-49b7-f208-8c815300e38f"
   },
   "outputs": [
    {
     "data": {
      "text/plain": [
       "[290278, 289496]"
      ]
     },
     "execution_count": 24,
     "metadata": {
      "tags": []
     },
     "output_type": "execute_result"
    }
   ],
   "source": [
    "[df_Criteo_Attribution[df_Criteo_Attribution.conversion == 0].shape[0], df_Criteo_Attribution[df_Criteo_Attribution.conversion == 1].shape[0]]"
   ]
  },
  {
   "cell_type": "code",
   "execution_count": 25,
   "metadata": {
    "colab": {
     "base_uri": "https://localhost:8080/",
     "height": 1000
    },
    "colab_type": "code",
    "id": "4hIgWxU8iOi-",
    "outputId": "0f392e14-b1b6-405e-9c73-99ecde27e8e0"
   },
   "outputs": [
    {
     "data": {
      "text/html": [
       "<div>\n",
       "<style scoped>\n",
       "    .dataframe tbody tr th:only-of-type {\n",
       "        vertical-align: middle;\n",
       "    }\n",
       "\n",
       "    .dataframe tbody tr th {\n",
       "        vertical-align: top;\n",
       "    }\n",
       "\n",
       "    .dataframe thead th {\n",
       "        text-align: right;\n",
       "    }\n",
       "</style>\n",
       "<table border=\"1\" class=\"dataframe\">\n",
       "  <thead>\n",
       "    <tr style=\"text-align: right;\">\n",
       "      <th></th>\n",
       "      <th>timestamp</th>\n",
       "      <th>uid</th>\n",
       "      <th>campaign</th>\n",
       "      <th>conversion</th>\n",
       "      <th>conversion_timestamp</th>\n",
       "      <th>conversion_id</th>\n",
       "      <th>attribution</th>\n",
       "      <th>click</th>\n",
       "      <th>click_pos</th>\n",
       "      <th>click_nb</th>\n",
       "      <th>cost</th>\n",
       "      <th>cpo</th>\n",
       "      <th>time_since_last_click</th>\n",
       "      <th>cat1</th>\n",
       "      <th>cat2</th>\n",
       "      <th>cat3</th>\n",
       "      <th>cat4</th>\n",
       "      <th>cat5</th>\n",
       "      <th>cat6</th>\n",
       "      <th>cat7</th>\n",
       "      <th>cat8</th>\n",
       "      <th>cat9</th>\n",
       "      <th>day</th>\n",
       "      <th>jid</th>\n",
       "      <th>timestamp_norm</th>\n",
       "      <th>time_since_last_click_norm</th>\n",
       "      <th>cats</th>\n",
       "      <th>campaigns</th>\n",
       "    </tr>\n",
       "  </thead>\n",
       "  <tbody>\n",
       "    <tr>\n",
       "      <th>65528</th>\n",
       "      <td>2</td>\n",
       "      <td>28474333</td>\n",
       "      <td>18975823</td>\n",
       "      <td>0</td>\n",
       "      <td>-1</td>\n",
       "      <td>-1</td>\n",
       "      <td>0</td>\n",
       "      <td>0</td>\n",
       "      <td>-1</td>\n",
       "      <td>-1</td>\n",
       "      <td>0.000183</td>\n",
       "      <td>0.149706</td>\n",
       "      <td>8879</td>\n",
       "      <td>138937</td>\n",
       "      <td>9312274</td>\n",
       "      <td>10769841</td>\n",
       "      <td>29196072</td>\n",
       "      <td>5824237</td>\n",
       "      <td>138937</td>\n",
       "      <td>1795451</td>\n",
       "      <td>29196072</td>\n",
       "      <td>15351056</td>\n",
       "      <td>0</td>\n",
       "      <td>28474333_-1</td>\n",
       "      <td>7.487274e-07</td>\n",
       "      <td>0.003426</td>\n",
       "      <td>[0.0, 0.0, 0.0, 0.0, 0.0, 1.0, 0.0, 0.0, 0.0, ...</td>\n",
       "      <td>[0.0, 0.0, 0.0, 0.0, 0.0, 0.0, 0.0, 0.0, 0.0, ...</td>\n",
       "    </tr>\n",
       "    <tr>\n",
       "      <th>387213</th>\n",
       "      <td>3</td>\n",
       "      <td>7306395</td>\n",
       "      <td>29427842</td>\n",
       "      <td>1</td>\n",
       "      <td>1449193</td>\n",
       "      <td>3063962</td>\n",
       "      <td>0</td>\n",
       "      <td>1</td>\n",
       "      <td>0</td>\n",
       "      <td>7</td>\n",
       "      <td>0.000094</td>\n",
       "      <td>0.154785</td>\n",
       "      <td>-1</td>\n",
       "      <td>28928366</td>\n",
       "      <td>26597095</td>\n",
       "      <td>12435261</td>\n",
       "      <td>23549932</td>\n",
       "      <td>5824237</td>\n",
       "      <td>1973606</td>\n",
       "      <td>9180723</td>\n",
       "      <td>29841067</td>\n",
       "      <td>29196072</td>\n",
       "      <td>0</td>\n",
       "      <td>7306395_3063962</td>\n",
       "      <td>1.123091e-06</td>\n",
       "      <td>0.000000</td>\n",
       "      <td>[0.0, 0.0, 0.0, 0.0, 1.0, 0.0, 0.0, 0.0, 0.0, ...</td>\n",
       "      <td>[0.0, 0.0, 0.0, 0.0, 0.0, 0.0, 1.0, 0.0, 0.0, ...</td>\n",
       "    </tr>\n",
       "    <tr>\n",
       "      <th>401488</th>\n",
       "      <td>4</td>\n",
       "      <td>93907</td>\n",
       "      <td>17686799</td>\n",
       "      <td>0</td>\n",
       "      <td>-1</td>\n",
       "      <td>-1</td>\n",
       "      <td>0</td>\n",
       "      <td>1</td>\n",
       "      <td>-1</td>\n",
       "      <td>-1</td>\n",
       "      <td>0.000186</td>\n",
       "      <td>0.267100</td>\n",
       "      <td>262565</td>\n",
       "      <td>30763035</td>\n",
       "      <td>9068207</td>\n",
       "      <td>9107790</td>\n",
       "      <td>29196072</td>\n",
       "      <td>32440044</td>\n",
       "      <td>1973606</td>\n",
       "      <td>2687461</td>\n",
       "      <td>29841067</td>\n",
       "      <td>21091108</td>\n",
       "      <td>0</td>\n",
       "      <td>93907_-1</td>\n",
       "      <td>1.497455e-06</td>\n",
       "      <td>0.101299</td>\n",
       "      <td>[0.0, 1.0, 0.0, 0.0, 0.0, 0.0, 0.0, 0.0, 0.0, ...</td>\n",
       "      <td>[0.0, 0.0, 1.0, 0.0, 0.0, 0.0, 0.0, 0.0, 0.0, ...</td>\n",
       "    </tr>\n",
       "    <tr>\n",
       "      <th>14394</th>\n",
       "      <td>4</td>\n",
       "      <td>19923387</td>\n",
       "      <td>31772643</td>\n",
       "      <td>0</td>\n",
       "      <td>-1</td>\n",
       "      <td>-1</td>\n",
       "      <td>0</td>\n",
       "      <td>0</td>\n",
       "      <td>-1</td>\n",
       "      <td>-1</td>\n",
       "      <td>0.000035</td>\n",
       "      <td>0.087070</td>\n",
       "      <td>179666</td>\n",
       "      <td>30763035</td>\n",
       "      <td>9312274</td>\n",
       "      <td>5028397</td>\n",
       "      <td>29196072</td>\n",
       "      <td>32440044</td>\n",
       "      <td>32440041</td>\n",
       "      <td>14074087</td>\n",
       "      <td>29196072</td>\n",
       "      <td>21091108</td>\n",
       "      <td>0</td>\n",
       "      <td>19923387_-1</td>\n",
       "      <td>1.497455e-06</td>\n",
       "      <td>0.069316</td>\n",
       "      <td>[0.0, 1.0, 0.0, 0.0, 0.0, 0.0, 0.0, 0.0, 0.0, ...</td>\n",
       "      <td>[0.0, 1.0, 0.0, 0.0, 0.0, 0.0, 0.0, 0.0, 0.0, ...</td>\n",
       "    </tr>\n",
       "    <tr>\n",
       "      <th>473426</th>\n",
       "      <td>4</td>\n",
       "      <td>28451570</td>\n",
       "      <td>20843295</td>\n",
       "      <td>0</td>\n",
       "      <td>-1</td>\n",
       "      <td>-1</td>\n",
       "      <td>0</td>\n",
       "      <td>0</td>\n",
       "      <td>-1</td>\n",
       "      <td>-1</td>\n",
       "      <td>0.000035</td>\n",
       "      <td>0.336611</td>\n",
       "      <td>-1</td>\n",
       "      <td>138937</td>\n",
       "      <td>9312274</td>\n",
       "      <td>15403272</td>\n",
       "      <td>29196072</td>\n",
       "      <td>32440042</td>\n",
       "      <td>28928366</td>\n",
       "      <td>8556462</td>\n",
       "      <td>29196072</td>\n",
       "      <td>29196072</td>\n",
       "      <td>0</td>\n",
       "      <td>28451570_-1</td>\n",
       "      <td>1.497455e-06</td>\n",
       "      <td>0.000000</td>\n",
       "      <td>[0.0, 0.0, 0.0, 0.0, 0.0, 1.0, 0.0, 0.0, 0.0, ...</td>\n",
       "      <td>[0.0, 0.0, 0.0, 0.0, 0.0, 0.0, 0.0, 0.0, 0.0, ...</td>\n",
       "    </tr>\n",
       "  </tbody>\n",
       "</table>\n",
       "</div>"
      ],
      "text/plain": [
       "       timestamp  ...                                          campaigns\n",
       "65528          2  ...  [0.0, 0.0, 0.0, 0.0, 0.0, 0.0, 0.0, 0.0, 0.0, ...\n",
       "387213         3  ...  [0.0, 0.0, 0.0, 0.0, 0.0, 0.0, 1.0, 0.0, 0.0, ...\n",
       "401488         4  ...  [0.0, 0.0, 1.0, 0.0, 0.0, 0.0, 0.0, 0.0, 0.0, ...\n",
       "14394          4  ...  [0.0, 1.0, 0.0, 0.0, 0.0, 0.0, 0.0, 0.0, 0.0, ...\n",
       "473426         4  ...  [0.0, 0.0, 0.0, 0.0, 0.0, 0.0, 0.0, 0.0, 0.0, ...\n",
       "\n",
       "[5 rows x 28 columns]"
      ]
     },
     "execution_count": 25,
     "metadata": {
      "tags": []
     },
     "output_type": "execute_result"
    }
   ],
   "source": [
    "df_Criteo_Attribution.head()"
   ]
  },
  {
   "cell_type": "markdown",
   "metadata": {
    "colab_type": "text",
    "id": "M2li-OVHiOjB"
   },
   "source": [
    "## LSTM(Long Short Term Memory)\n"
   ]
  },
  {
   "cell_type": "code",
   "execution_count": 26,
   "metadata": {
    "colab": {
     "base_uri": "https://localhost:8080/",
     "height": 34
    },
    "colab_type": "code",
    "id": "JiOYbJT-iOjC",
    "outputId": "cdb401e0-d13a-4a53-cb80-e17f261be962"
   },
   "outputs": [
    {
     "name": "stdout",
     "output_type": "stream",
     "text": [
      "(125836, 15, 404)\n"
     ]
    }
   ],
   "source": [
    "def features_for_lstm(df, max_touchpoints):\n",
    "    \n",
    "    df_proj = df[['jid', 'campaigns', 'click', 'cost', 'time_since_last_click_norm', 'timestamp_norm', 'conversion']]\n",
    "    \n",
    "    x2d = df_proj.values\n",
    "    \n",
    "    x3d_list = np.split(x2d[:, 1:], np.cumsum(np.unique(x2d[:, 0], return_counts=True)[1])[:-1])\n",
    "    \n",
    "    x3d = []\n",
    "    y = []\n",
    "    for xi in x3d_list:\n",
    "        journey_matrix = np.apply_along_axis(np.hstack, 1, xi)\n",
    "        journey_matrix = journey_matrix[ journey_matrix[:, 5].argsort() ] # sort impressions by timestamp\n",
    "        n_touchpoints = len(journey_matrix)\n",
    "        padded_journey = []\n",
    "        if(n_touchpoints >= max_touchpoints):\n",
    "            padded_journey = journey_matrix[0:max_touchpoints]\n",
    "        else:\n",
    "            padded_journey = np.pad(journey_matrix, ((0, max_touchpoints - n_touchpoints), (0, 0)), 'constant', constant_values=(0))\n",
    "            \n",
    "        x3d.append(padded_journey[:, 0:-1])\n",
    "        y.append(np.max(padded_journey[:, -1]))\n",
    "        \n",
    "    return np.stack(x3d), y\n",
    "\n",
    "x, y = features_for_lstm(df_Criteo_Attribution, max_touchpoints = 15)\n",
    "print(np.shape(x))\n",
    "\n",
    "x_train, x_test, y_train, y_test = train_test_split(x, y, test_size = 0.20, random_state = 1)\n",
    "x_train, x_val, y_train, y_val = train_test_split(x_train, y_train, test_size = 0.20, random_state = 1)\n"
   ]
  },
  {
   "cell_type": "code",
   "execution_count": 27,
   "metadata": {
    "colab": {
     "base_uri": "https://localhost:8080/",
     "height": 848
    },
    "colab_type": "code",
    "id": "n7BEDHttiOjF",
    "outputId": "38858ae3-4cb6-4967-fd71-94ff54b8aad5"
   },
   "outputs": [
    {
     "name": "stdout",
     "output_type": "stream",
     "text": [
      "WARNING:tensorflow:From /usr/local/lib/python3.6/dist-packages/keras/backend/tensorflow_backend.py:66: The name tf.get_default_graph is deprecated. Please use tf.compat.v1.get_default_graph instead.\n",
      "\n",
      "WARNING:tensorflow:From /usr/local/lib/python3.6/dist-packages/keras/backend/tensorflow_backend.py:541: The name tf.placeholder is deprecated. Please use tf.compat.v1.placeholder instead.\n",
      "\n",
      "WARNING:tensorflow:From /usr/local/lib/python3.6/dist-packages/keras/backend/tensorflow_backend.py:4432: The name tf.random_uniform is deprecated. Please use tf.random.uniform instead.\n",
      "\n",
      "WARNING:tensorflow:From /usr/local/lib/python3.6/dist-packages/keras/backend/tensorflow_backend.py:148: The name tf.placeholder_with_default is deprecated. Please use tf.compat.v1.placeholder_with_default instead.\n",
      "\n",
      "WARNING:tensorflow:From /usr/local/lib/python3.6/dist-packages/keras/backend/tensorflow_backend.py:3733: calling dropout (from tensorflow.python.ops.nn_ops) with keep_prob is deprecated and will be removed in a future version.\n",
      "Instructions for updating:\n",
      "Please use `rate` instead of `keep_prob`. Rate should be set to `rate = 1 - keep_prob`.\n",
      "WARNING:tensorflow:From /usr/local/lib/python3.6/dist-packages/keras/optimizers.py:793: The name tf.train.Optimizer is deprecated. Please use tf.compat.v1.train.Optimizer instead.\n",
      "\n",
      "WARNING:tensorflow:From /usr/local/lib/python3.6/dist-packages/keras/backend/tensorflow_backend.py:3657: The name tf.log is deprecated. Please use tf.math.log instead.\n",
      "\n",
      "WARNING:tensorflow:From /usr/local/lib/python3.6/dist-packages/tensorflow_core/python/ops/nn_impl.py:183: where (from tensorflow.python.ops.array_ops) is deprecated and will be removed in a future version.\n",
      "Instructions for updating:\n",
      "Use tf.where in 2.0, which has the same broadcast rule as np.where\n",
      "WARNING:tensorflow:From /usr/local/lib/python3.6/dist-packages/keras/backend/tensorflow_backend.py:1033: The name tf.assign_add is deprecated. Please use tf.compat.v1.assign_add instead.\n",
      "\n",
      "WARNING:tensorflow:From /usr/local/lib/python3.6/dist-packages/keras/backend/tensorflow_backend.py:1020: The name tf.assign is deprecated. Please use tf.compat.v1.assign instead.\n",
      "\n",
      "WARNING:tensorflow:From /usr/local/lib/python3.6/dist-packages/keras/backend/tensorflow_backend.py:3005: The name tf.Session is deprecated. Please use tf.compat.v1.Session instead.\n",
      "\n",
      "Train on 80534 samples, validate on 20134 samples\n",
      "Epoch 1/5\n",
      "WARNING:tensorflow:From /usr/local/lib/python3.6/dist-packages/keras/backend/tensorflow_backend.py:190: The name tf.get_default_session is deprecated. Please use tf.compat.v1.get_default_session instead.\n",
      "\n",
      "WARNING:tensorflow:From /usr/local/lib/python3.6/dist-packages/keras/backend/tensorflow_backend.py:197: The name tf.ConfigProto is deprecated. Please use tf.compat.v1.ConfigProto instead.\n",
      "\n",
      "WARNING:tensorflow:From /usr/local/lib/python3.6/dist-packages/keras/backend/tensorflow_backend.py:207: The name tf.global_variables is deprecated. Please use tf.compat.v1.global_variables instead.\n",
      "\n",
      "WARNING:tensorflow:From /usr/local/lib/python3.6/dist-packages/keras/backend/tensorflow_backend.py:216: The name tf.is_variable_initialized is deprecated. Please use tf.compat.v1.is_variable_initialized instead.\n",
      "\n",
      "WARNING:tensorflow:From /usr/local/lib/python3.6/dist-packages/keras/backend/tensorflow_backend.py:223: The name tf.variables_initializer is deprecated. Please use tf.compat.v1.variables_initializer instead.\n",
      "\n",
      "80534/80534 [==============================] - 38s 472us/step - loss: 0.3509 - acc: 0.8427 - val_loss: 0.2821 - val_acc: 0.8845\n",
      "Epoch 2/5\n",
      "80534/80534 [==============================] - 37s 459us/step - loss: 0.2948 - acc: 0.8722 - val_loss: 0.2517 - val_acc: 0.8972\n",
      "Epoch 3/5\n",
      "80534/80534 [==============================] - 39s 487us/step - loss: 0.2686 - acc: 0.8854 - val_loss: 0.2527 - val_acc: 0.9022\n",
      "Epoch 4/5\n",
      "80534/80534 [==============================] - 38s 474us/step - loss: 0.2562 - acc: 0.8919 - val_loss: 0.2454 - val_acc: 0.9008\n",
      "Epoch 5/5\n",
      "80534/80534 [==============================] - 37s 462us/step - loss: 0.2491 - acc: 0.8956 - val_loss: 0.2290 - val_acc: 0.9059\n",
      "Test score: 0.2268214542975262\n",
      "Test accuracy: 0.9061109345200254\n"
     ]
    }
   ],
   "source": [
    "from keras.models import Sequential \n",
    "from keras.layers import Dense, LSTM\n",
    "\n",
    "n_steps, n_features = np.shape(x)[1:3]\n",
    "    \n",
    "model = Sequential() \n",
    "model.add(LSTM(64, dropout=0.2, recurrent_dropout=0.2, input_shape=(n_steps, n_features)))\n",
    "model.add(Dense(1, activation='sigmoid')) \n",
    "\n",
    "model.compile(optimizer='adam', loss='binary_crossentropy', metrics=['accuracy']) \n",
    "history = model.fit(x_train, y_train, batch_size=64, epochs=5, verbose=1, validation_data=(x_val, y_val)) \n",
    "score = model.evaluate(x_test, y_test, verbose=0) \n",
    "print('Test score:', score[0]) \n",
    "print('Test accuracy:', score[1])"
   ]
  },
  {
   "cell_type": "markdown",
   "metadata": {},
   "source": [
    "We can see that the LSTM approach provided significantly better accuracy compared with the logistic regression baseline. However, LSTM does not provide a simple way to extract the attribution weights from the fitted model. We can build a much better model on top of LSTM that provides both better accuracy and explicit estimates of attribution weights. \n",
    "\n",
    "\n",
    "### LSTM with Attention"
   ]
  },
  {
   "cell_type": "code",
   "execution_count": 28,
   "metadata": {
    "colab": {
     "base_uri": "https://localhost:8080/",
     "height": 241
    },
    "colab_type": "code",
    "id": "rUs2XAufvupb",
    "outputId": "e70f4102-b4d1-472e-90e8-ac1f2afc1ed4"
   },
   "outputs": [
    {
     "name": "stdout",
     "output_type": "stream",
     "text": [
      "Train on 80534 samples, validate on 20134 samples\n",
      "Epoch 1/5\n",
      "80534/80534 [==============================] - 48s 594us/step - loss: 0.2536 - acc: 0.8919 - val_loss: 0.2257 - val_acc: 0.9038\n",
      "Epoch 2/5\n",
      "80534/80534 [==============================] - 47s 578us/step - loss: 0.2182 - acc: 0.9076 - val_loss: 0.2196 - val_acc: 0.9071\n",
      "Epoch 3/5\n",
      "80534/80534 [==============================] - 46s 572us/step - loss: 0.2109 - acc: 0.9111 - val_loss: 0.2175 - val_acc: 0.9092\n",
      "Epoch 4/5\n",
      "80534/80534 [==============================] - 46s 571us/step - loss: 0.2074 - acc: 0.9133 - val_loss: 0.2184 - val_acc: 0.9081\n",
      "Epoch 5/5\n",
      "80534/80534 [==============================] - 48s 595us/step - loss: 0.2053 - acc: 0.9145 - val_loss: 0.2186 - val_acc: 0.9092\n",
      "Test score: 0.21560122279683572\n",
      "Test accuracy: 0.9088525111252383\n"
     ]
    }
   ],
   "source": [
    "from keras.models import Sequential \n",
    "from keras.layers import Dense, LSTM, Input, Lambda, RepeatVector, Permute, Flatten, Activation, Multiply\n",
    "from keras.constraints import NonNeg\n",
    "from keras import backend as K\n",
    "from keras.models import Model\n",
    "\n",
    "n_steps, n_features = np.shape(x)[1:3]\n",
    "\n",
    "hidden_units = 64\n",
    "\n",
    "main_input = Input(shape=(n_steps, n_features))\n",
    "    \n",
    "embeddings = Dense(128, activation='linear', input_shape=(n_steps, n_features))(main_input)\n",
    "\n",
    "activations = LSTM(hidden_units, dropout=0.2, recurrent_dropout=0.2, return_sequences=True)(embeddings)\n",
    "\n",
    "attention = Dense(1, activation='tanh')(activations)\n",
    "attention = Flatten()(attention)\n",
    "attention = Activation('softmax', name = 'attention_weigths')(attention)\n",
    "attention = RepeatVector(hidden_units * 1)(attention)\n",
    "attention = Permute([2, 1])(attention)\n",
    "\n",
    "weighted_activations = Multiply()([activations, attention])\n",
    "weighted_activations = Lambda(lambda xin: K.sum(xin, axis=-2), output_shape=(hidden_units,))(weighted_activations)\n",
    "\n",
    "main_output = Dense(1, activation='sigmoid')(weighted_activations)\n",
    "\n",
    "model = Model(inputs=main_input, outputs=main_output)\n",
    "\n",
    "model.compile(optimizer='adam', loss='binary_crossentropy', metrics=['accuracy']) \n",
    "history = model.fit(x_train, y_train, batch_size=64, epochs=5, verbose=1, validation_data=(x_val, y_val)) \n",
    "score = model.evaluate(x_test, y_test, verbose=0) \n",
    "print('Test score:', score[0]) \n",
    "print('Test accuracy:', score[1])"
   ]
  },
  {
   "cell_type": "markdown",
   "metadata": {},
   "source": [
    "We get the best Accuracy with LSTM Attention Mechanism"
   ]
  },
  {
   "cell_type": "code",
   "execution_count": 0,
   "metadata": {
    "colab": {},
    "colab_type": "code",
    "id": "uZzdZ0hFvumj"
   },
   "outputs": [],
   "source": [
    "def get_campaign_id(x_journey_step):\n",
    "    return np.argmax(x_journey_step[0:n_campaigns])\n",
    "\n",
    "attention_model = Model(inputs=model.input, outputs=model.get_layer('attention_weigths').output)\n",
    "\n",
    "a = attention_model.predict(x_train)\n",
    "\n",
    "attributions = np.zeros(n_campaigns)\n",
    "campaign_freq = np.ones(n_campaigns)\n",
    "for i, journey in enumerate(a):\n",
    "    for step, step_contribution in enumerate(journey):\n",
    "        if(np.sum(x_train[i][step]) > 0):\n",
    "            campaign_id = get_campaign_id(x_train[i][step])\n",
    "            attributions[campaign_id] = attributions[campaign_id] + step_contribution\n",
    "            campaign_freq[campaign_id] = campaign_freq[campaign_id] + 1"
   ]
  },
  {
   "cell_type": "code",
   "execution_count": 30,
   "metadata": {
    "colab": {
     "base_uri": "https://localhost:8080/",
     "height": 282
    },
    "colab_type": "code",
    "id": "72ZS8M3hvukA",
    "outputId": "bc169cbc-e0ba-4db6-b360-883516960d19"
   },
   "outputs": [
    {
     "data": {
      "image/png": "[encoded data removed]",
      "text/plain": [
       "<Figure size 1080x288 with 1 Axes>"
      ]
     },
     "metadata": {
      "tags": []
     },
     "output_type": "display_data"
    }
   ],
   "source": [
    "lstm_a = (attributions/campaign_freq)\n",
    "\n",
    "campaign_idx = range(150, 200)\n",
    "\n",
    "fig = plt.figure(figsize=(15, 4))\n",
    "ax = fig.add_subplot(111)\n",
    "plt.bar( range(len(lstm_a[campaign_idx])), lstm_a[campaign_idx], label='LSTM-A' )\n",
    "plt.xlabel('Campaign ID')\n",
    "plt.ylabel('Contribution')\n",
    "plt.legend(loc='upper left')\n",
    "plt.show()"
   ]
  },
  {
   "cell_type": "code",
   "execution_count": 0,
   "metadata": {
    "colab": {},
    "colab_type": "code",
    "id": "oesT5pWziOjZ"
   },
   "outputs": [],
   "source": [
    "np.savetxt(\"lstm_a.txt\",lstm_a)"
   ]
  },
  {
   "cell_type": "code",
   "execution_count": 0,
   "metadata": {
    "colab": {},
    "colab_type": "code",
    "id": "sFUMkimKiOjb"
   },
   "outputs": [],
   "source": []
  },
  {
   "cell_type": "code",
   "execution_count": 0,
   "metadata": {
    "colab": {},
    "colab_type": "code",
    "id": "Wr88FEtXiOjf"
   },
   "outputs": [],
   "source": []
  }
 ],
 "metadata": {
  "accelerator": "TPU",
  "colab": {
   "collapsed_sections": [],
   "machine_shape": "hm",
   "name": "4. Attribution_Modeling_LSTM_Attention_Model.ipynb",
   "provenance": []
  },
  "kernelspec": {
   "display_name": "Python 3",
   "language": "python",
   "name": "python3"
  },
  "language_info": {
   "codemirror_mode": {
    "name": "ipython",
    "version": 3
   },
   "file_extension": ".py",
   "mimetype": "text/x-python",
   "name": "python",
   "nbconvert_exporter": "python",
   "pygments_lexer": "ipython3",
   "version": "3.6.5"
  }
 },
 "nbformat": 4,
 "nbformat_minor": 1
}
