{
 "cells": [
  {
   "cell_type": "markdown",
   "metadata": {},
   "source": [
    "### Data Driven Models\n",
    "\n",
    "\n",
    "Heuristic solutions are inflexible and unable to distinguish between the true low and high impact touch-points, resulting in an inaccurate division of credit.\n",
    "Luckily, there are more sophisticated, data-driven approaches that address these limitations. Data-driven attribution is a custom solution that is able to capture the intricacies of buyer journeys by modelling how channels, and more importantly how different combinations of channels, interact with buyers to influence a desired sales outcome. A data-driven model provides the most accurate view of which channels are performing the best, driving better marketing accountability and efficiency.\n",
    "\n",
    "#### There are various models which can be implemented such as - \n",
    "- Logistic Regression\n",
    "- LSTM\n",
    "- LSTM with Attention\n",
    "- Shapely method and Game Theory\n",
    "- Markov Chain Models\n",
    "\n",
    "We will implement some of these in the next notebooks. "
   ]
  },
  {
   "cell_type": "code",
   "execution_count": 2,
   "metadata": {},
   "outputs": [],
   "source": [
    "import pandas as pd\n",
    "import matplotlib.pyplot as plt \n",
    "import numpy as np\n",
    "import os\n",
    "\n",
    "from sklearn.utils import resample\n",
    "from sklearn.preprocessing import MinMaxScaler\n",
    "from sklearn.model_selection import train_test_split\n",
    "from sklearn.linear_model import LogisticRegression\n",
    "\n",
    "import keras\n",
    "\n",
    "import warnings\n",
    "warnings.filterwarnings('ignore')\n",
    "\n",
    "plt.style.use('ggplot')"
   ]
  },
  {
   "cell_type": "code",
   "execution_count": 3,
   "metadata": {},
   "outputs": [],
   "source": [
    "os.chdir(r'N:\\ALGORITHMIC MARKETING\\Assignment3\\criteo_attribution_dataset')"
   ]
  },
  {
   "cell_type": "code",
   "execution_count": 4,
   "metadata": {},
   "outputs": [],
   "source": [
    "DATA_FILE='criteo_attribution_dataset.tsv.gz'\n",
    "df_Criteo_Attribution = pd.read_csv(DATA_FILE, sep='\\t', compression='gzip')"
   ]
  },
  {
   "cell_type": "markdown",
   "metadata": {},
   "source": [
    "## Data Pre-Processing \n"
   ]
  },
  {
   "cell_type": "code",
   "execution_count": 5,
   "metadata": {},
   "outputs": [],
   "source": [
    "n_campaigns = 400"
   ]
  },
  {
   "cell_type": "code",
   "execution_count": 6,
   "metadata": {},
   "outputs": [],
   "source": [
    "df_Criteo_Attribution['day'] = np.floor(df_Criteo_Attribution.timestamp / 86400.).astype(int)"
   ]
  },
  {
   "cell_type": "code",
   "execution_count": 7,
   "metadata": {},
   "outputs": [],
   "source": [
    "def add_derived_columns(df):\n",
    "    df_ext = df.copy()\n",
    "    df_ext['jid'] = df_ext['uid'].map(str) + '_' + df_ext['conversion_id'].map(str)\n",
    "    \n",
    "    min_max_scaler = MinMaxScaler()\n",
    "    for cname in ('timestamp', 'time_since_last_click'):\n",
    "        x = df_ext[cname].values.reshape(-1, 1) \n",
    "        df_ext[cname + '_norm'] = min_max_scaler.fit_transform(x)\n",
    "    \n",
    "    return df_ext"
   ]
  },
  {
   "cell_type": "code",
   "execution_count": 8,
   "metadata": {},
   "outputs": [],
   "source": [
    "df_Criteo_Attribution = add_derived_columns(df_Criteo_Attribution)"
   ]
  },
  {
   "cell_type": "code",
   "execution_count": 9,
   "metadata": {},
   "outputs": [
    {
     "data": {
      "text/html": [
       "<div>\n",
       "<style scoped>\n",
       "    .dataframe tbody tr th:only-of-type {\n",
       "        vertical-align: middle;\n",
       "    }\n",
       "\n",
       "    .dataframe tbody tr th {\n",
       "        vertical-align: top;\n",
       "    }\n",
       "\n",
       "    .dataframe thead th {\n",
       "        text-align: right;\n",
       "    }\n",
       "</style>\n",
       "<table border=\"1\" class=\"dataframe\">\n",
       "  <thead>\n",
       "    <tr style=\"text-align: right;\">\n",
       "      <th></th>\n",
       "      <th>timestamp</th>\n",
       "      <th>uid</th>\n",
       "      <th>campaign</th>\n",
       "      <th>conversion</th>\n",
       "      <th>conversion_timestamp</th>\n",
       "      <th>conversion_id</th>\n",
       "      <th>attribution</th>\n",
       "      <th>click</th>\n",
       "      <th>click_pos</th>\n",
       "      <th>click_nb</th>\n",
       "      <th>...</th>\n",
       "      <th>cat4</th>\n",
       "      <th>cat5</th>\n",
       "      <th>cat6</th>\n",
       "      <th>cat7</th>\n",
       "      <th>cat8</th>\n",
       "      <th>cat9</th>\n",
       "      <th>day</th>\n",
       "      <th>jid</th>\n",
       "      <th>timestamp_norm</th>\n",
       "      <th>time_since_last_click_norm</th>\n",
       "    </tr>\n",
       "  </thead>\n",
       "  <tbody>\n",
       "    <tr>\n",
       "      <th>0</th>\n",
       "      <td>0</td>\n",
       "      <td>20073966</td>\n",
       "      <td>22589171</td>\n",
       "      <td>0</td>\n",
       "      <td>-1</td>\n",
       "      <td>-1</td>\n",
       "      <td>0</td>\n",
       "      <td>0</td>\n",
       "      <td>-1</td>\n",
       "      <td>-1</td>\n",
       "      <td>...</td>\n",
       "      <td>29196072</td>\n",
       "      <td>11409686</td>\n",
       "      <td>1973606</td>\n",
       "      <td>25162884</td>\n",
       "      <td>29196072</td>\n",
       "      <td>29196072</td>\n",
       "      <td>0</td>\n",
       "      <td>20073966_-1</td>\n",
       "      <td>0.000000e+00</td>\n",
       "      <td>0.000000</td>\n",
       "    </tr>\n",
       "    <tr>\n",
       "      <th>1</th>\n",
       "      <td>2</td>\n",
       "      <td>24607497</td>\n",
       "      <td>884761</td>\n",
       "      <td>0</td>\n",
       "      <td>-1</td>\n",
       "      <td>-1</td>\n",
       "      <td>0</td>\n",
       "      <td>0</td>\n",
       "      <td>-1</td>\n",
       "      <td>-1</td>\n",
       "      <td>...</td>\n",
       "      <td>29196072</td>\n",
       "      <td>11409686</td>\n",
       "      <td>1973606</td>\n",
       "      <td>22644417</td>\n",
       "      <td>9312274</td>\n",
       "      <td>21091111</td>\n",
       "      <td>0</td>\n",
       "      <td>24607497_-1</td>\n",
       "      <td>7.487274e-07</td>\n",
       "      <td>0.163526</td>\n",
       "    </tr>\n",
       "    <tr>\n",
       "      <th>2</th>\n",
       "      <td>2</td>\n",
       "      <td>28474333</td>\n",
       "      <td>18975823</td>\n",
       "      <td>0</td>\n",
       "      <td>-1</td>\n",
       "      <td>-1</td>\n",
       "      <td>0</td>\n",
       "      <td>0</td>\n",
       "      <td>-1</td>\n",
       "      <td>-1</td>\n",
       "      <td>...</td>\n",
       "      <td>29196072</td>\n",
       "      <td>5824237</td>\n",
       "      <td>138937</td>\n",
       "      <td>1795451</td>\n",
       "      <td>29196072</td>\n",
       "      <td>15351056</td>\n",
       "      <td>0</td>\n",
       "      <td>28474333_-1</td>\n",
       "      <td>7.487274e-07</td>\n",
       "      <td>0.003426</td>\n",
       "    </tr>\n",
       "    <tr>\n",
       "      <th>3</th>\n",
       "      <td>3</td>\n",
       "      <td>7306395</td>\n",
       "      <td>29427842</td>\n",
       "      <td>1</td>\n",
       "      <td>1449193</td>\n",
       "      <td>3063962</td>\n",
       "      <td>0</td>\n",
       "      <td>1</td>\n",
       "      <td>0</td>\n",
       "      <td>7</td>\n",
       "      <td>...</td>\n",
       "      <td>23549932</td>\n",
       "      <td>5824237</td>\n",
       "      <td>1973606</td>\n",
       "      <td>9180723</td>\n",
       "      <td>29841067</td>\n",
       "      <td>29196072</td>\n",
       "      <td>0</td>\n",
       "      <td>7306395_3063962</td>\n",
       "      <td>1.123091e-06</td>\n",
       "      <td>0.000000</td>\n",
       "    </tr>\n",
       "    <tr>\n",
       "      <th>4</th>\n",
       "      <td>3</td>\n",
       "      <td>25357769</td>\n",
       "      <td>13365547</td>\n",
       "      <td>0</td>\n",
       "      <td>-1</td>\n",
       "      <td>-1</td>\n",
       "      <td>0</td>\n",
       "      <td>0</td>\n",
       "      <td>-1</td>\n",
       "      <td>-1</td>\n",
       "      <td>...</td>\n",
       "      <td>29196072</td>\n",
       "      <td>11409684</td>\n",
       "      <td>26597096</td>\n",
       "      <td>4480345</td>\n",
       "      <td>29196072</td>\n",
       "      <td>29196072</td>\n",
       "      <td>0</td>\n",
       "      <td>25357769_-1</td>\n",
       "      <td>1.123091e-06</td>\n",
       "      <td>0.000000</td>\n",
       "    </tr>\n",
       "  </tbody>\n",
       "</table>\n",
       "<p>5 rows × 26 columns</p>\n",
       "</div>"
      ],
      "text/plain": [
       "   timestamp       uid  campaign  conversion  conversion_timestamp  \\\n",
       "0          0  20073966  22589171           0                    -1   \n",
       "1          2  24607497    884761           0                    -1   \n",
       "2          2  28474333  18975823           0                    -1   \n",
       "3          3   7306395  29427842           1               1449193   \n",
       "4          3  25357769  13365547           0                    -1   \n",
       "\n",
       "   conversion_id  attribution  click  click_pos  click_nb  ...      cat4  \\\n",
       "0             -1            0      0         -1        -1  ...  29196072   \n",
       "1             -1            0      0         -1        -1  ...  29196072   \n",
       "2             -1            0      0         -1        -1  ...  29196072   \n",
       "3        3063962            0      1          0         7  ...  23549932   \n",
       "4             -1            0      0         -1        -1  ...  29196072   \n",
       "\n",
       "       cat5      cat6      cat7      cat8      cat9  day              jid  \\\n",
       "0  11409686   1973606  25162884  29196072  29196072    0      20073966_-1   \n",
       "1  11409686   1973606  22644417   9312274  21091111    0      24607497_-1   \n",
       "2   5824237    138937   1795451  29196072  15351056    0      28474333_-1   \n",
       "3   5824237   1973606   9180723  29841067  29196072    0  7306395_3063962   \n",
       "4  11409684  26597096   4480345  29196072  29196072    0      25357769_-1   \n",
       "\n",
       "   timestamp_norm  time_since_last_click_norm  \n",
       "0    0.000000e+00                    0.000000  \n",
       "1    7.487274e-07                    0.163526  \n",
       "2    7.487274e-07                    0.003426  \n",
       "3    1.123091e-06                    0.000000  \n",
       "4    1.123091e-06                    0.000000  \n",
       "\n",
       "[5 rows x 26 columns]"
      ]
     },
     "execution_count": 9,
     "metadata": {},
     "output_type": "execute_result"
    }
   ],
   "source": [
    "df_Criteo_Attribution.head()"
   ]
  },
  {
   "cell_type": "code",
   "execution_count": 10,
   "metadata": {},
   "outputs": [],
   "source": [
    "np.random.seed(42)\n",
    "def sample_campaigns(df, n_campaigns):    \n",
    "    campaigns = np.random.choice( df['campaign'].unique(), n_campaigns, replace = False )\n",
    "    return df[ df['campaign'].isin(campaigns) ]\n"
   ]
  },
  {
   "cell_type": "code",
   "execution_count": 11,
   "metadata": {},
   "outputs": [],
   "source": [
    "df_Criteo_Attribution = sample_campaigns(df_Criteo_Attribution, n_campaigns)"
   ]
  },
  {
   "cell_type": "code",
   "execution_count": 12,
   "metadata": {},
   "outputs": [
    {
     "data": {
      "text/plain": [
       "(9889488, 26)"
      ]
     },
     "execution_count": 12,
     "metadata": {},
     "output_type": "execute_result"
    }
   ],
   "source": [
    "df_Criteo_Attribution.shape"
   ]
  },
  {
   "cell_type": "code",
   "execution_count": 13,
   "metadata": {},
   "outputs": [],
   "source": [
    "def filter_journeys_by_length(df, min_touchpoints):\n",
    "    if min_touchpoints <= 1:\n",
    "        return df\n",
    "    else:\n",
    "        grouped = df.groupby(['jid'])['uid'].count().reset_index(name=\"count\")\n",
    "        return df[df['jid'].isin( grouped[grouped['count'] >= min_touchpoints]['jid'].values )]"
   ]
  },
  {
   "cell_type": "code",
   "execution_count": 14,
   "metadata": {},
   "outputs": [],
   "source": [
    "df_Criteo_Attribution = filter_journeys_by_length(df_Criteo_Attribution, 2)"
   ]
  },
  {
   "cell_type": "code",
   "execution_count": 15,
   "metadata": {},
   "outputs": [
    {
     "data": {
      "text/plain": [
       "(7405691, 26)"
      ]
     },
     "execution_count": 15,
     "metadata": {},
     "output_type": "execute_result"
    }
   ],
   "source": [
    "df_Criteo_Attribution.shape"
   ]
  },
  {
   "cell_type": "code",
   "execution_count": 16,
   "metadata": {},
   "outputs": [],
   "source": [
    "def balance_conversions(df):\n",
    "    df_minority = df[df.conversion == 1]\n",
    "    df_majority = df[df.conversion == 0]\n",
    "    \n",
    "    df_majority_jids = np.array_split(df_majority['jid'].unique(), 100 * df_majority.shape[0]/df_minority.shape[0] )\n",
    "    \n",
    "    df_majority_sampled = pd.DataFrame(data=None, columns=df.columns)\n",
    "    for jid_chunk in df_majority_jids:\n",
    "        df_majority_sampled = pd.concat([df_majority_sampled, df_majority[df_majority.jid.isin(jid_chunk)]])\n",
    "        if df_majority_sampled.shape[0] > df_minority.shape[0]:\n",
    "            break\n",
    "    \n",
    "    return pd.concat([df_majority_sampled, df_minority]).sample(frac=1).reset_index(drop=True)"
   ]
  },
  {
   "cell_type": "code",
   "execution_count": 17,
   "metadata": {},
   "outputs": [],
   "source": [
    "df_Criteo_Attribution = balance_conversions(df_Criteo_Attribution)"
   ]
  },
  {
   "cell_type": "code",
   "execution_count": 18,
   "metadata": {},
   "outputs": [
    {
     "data": {
      "text/plain": [
       "(579774, 26)"
      ]
     },
     "execution_count": 18,
     "metadata": {},
     "output_type": "execute_result"
    }
   ],
   "source": [
    "df_Criteo_Attribution.shape"
   ]
  },
  {
   "cell_type": "code",
   "execution_count": 19,
   "metadata": {},
   "outputs": [],
   "source": [
    "def map_one_hot(df, column_names, result_column_name):\n",
    "    mapper = {} \n",
    "    for i, col_name in enumerate(column_names):\n",
    "        for val in df[col_name].unique():\n",
    "            mapper[str(val) + str(i)] = len(mapper)\n",
    "         \n",
    "    df_ext = df.copy()\n",
    "    \n",
    "    def one_hot(values):\n",
    "        v = np.zeros( len(mapper) )\n",
    "        for i, val in enumerate(values): \n",
    "            v[ mapper[str(val) + str(i)] ] = 1\n",
    "        return v    \n",
    "    \n",
    "    df_ext[result_column_name] = df_ext[column_names].values.tolist()\n",
    "    df_ext[result_column_name] = df_ext[result_column_name].map(one_hot)\n",
    "    \n",
    "    return df_ext"
   ]
  },
  {
   "cell_type": "code",
   "execution_count": 20,
   "metadata": {},
   "outputs": [],
   "source": [
    "df_Criteo_Attribution = map_one_hot(df_Criteo_Attribution, ['cat1', 'cat2', 'cat3', 'cat4', 'cat5', 'cat6', 'cat8'], 'cats')"
   ]
  },
  {
   "cell_type": "code",
   "execution_count": 21,
   "metadata": {},
   "outputs": [
    {
     "data": {
      "text/plain": [
       "array([1., 0., 0., ..., 0., 0., 0.])"
      ]
     },
     "execution_count": 21,
     "metadata": {},
     "output_type": "execute_result"
    }
   ],
   "source": [
    "df_Criteo_Attribution.cats[0]"
   ]
  },
  {
   "cell_type": "code",
   "execution_count": 22,
   "metadata": {},
   "outputs": [],
   "source": [
    "df_Criteo_Attribution = map_one_hot(df_Criteo_Attribution, ['campaign'], 'campaigns').sort_values(by=['timestamp_norm'])"
   ]
  },
  {
   "cell_type": "code",
   "execution_count": 23,
   "metadata": {},
   "outputs": [
    {
     "data": {
      "text/plain": [
       "(579774, 28)"
      ]
     },
     "execution_count": 23,
     "metadata": {},
     "output_type": "execute_result"
    }
   ],
   "source": [
    "df_Criteo_Attribution.shape"
   ]
  },
  {
   "cell_type": "code",
   "execution_count": 24,
   "metadata": {},
   "outputs": [
    {
     "data": {
      "text/plain": [
       "[290278, 289496]"
      ]
     },
     "execution_count": 24,
     "metadata": {},
     "output_type": "execute_result"
    }
   ],
   "source": [
    "[df_Criteo_Attribution[df_Criteo_Attribution.conversion == 0].shape[0], df_Criteo_Attribution[df_Criteo_Attribution.conversion == 1].shape[0]]"
   ]
  },
  {
   "cell_type": "code",
   "execution_count": 25,
   "metadata": {},
   "outputs": [
    {
     "data": {
      "text/html": [
       "<div>\n",
       "<style scoped>\n",
       "    .dataframe tbody tr th:only-of-type {\n",
       "        vertical-align: middle;\n",
       "    }\n",
       "\n",
       "    .dataframe tbody tr th {\n",
       "        vertical-align: top;\n",
       "    }\n",
       "\n",
       "    .dataframe thead th {\n",
       "        text-align: right;\n",
       "    }\n",
       "</style>\n",
       "<table border=\"1\" class=\"dataframe\">\n",
       "  <thead>\n",
       "    <tr style=\"text-align: right;\">\n",
       "      <th></th>\n",
       "      <th>timestamp</th>\n",
       "      <th>uid</th>\n",
       "      <th>campaign</th>\n",
       "      <th>conversion</th>\n",
       "      <th>conversion_timestamp</th>\n",
       "      <th>conversion_id</th>\n",
       "      <th>attribution</th>\n",
       "      <th>click</th>\n",
       "      <th>click_pos</th>\n",
       "      <th>click_nb</th>\n",
       "      <th>...</th>\n",
       "      <th>cat6</th>\n",
       "      <th>cat7</th>\n",
       "      <th>cat8</th>\n",
       "      <th>cat9</th>\n",
       "      <th>day</th>\n",
       "      <th>jid</th>\n",
       "      <th>timestamp_norm</th>\n",
       "      <th>time_since_last_click_norm</th>\n",
       "      <th>cats</th>\n",
       "      <th>campaigns</th>\n",
       "    </tr>\n",
       "  </thead>\n",
       "  <tbody>\n",
       "    <tr>\n",
       "      <th>65528</th>\n",
       "      <td>2</td>\n",
       "      <td>28474333</td>\n",
       "      <td>18975823</td>\n",
       "      <td>0</td>\n",
       "      <td>-1</td>\n",
       "      <td>-1</td>\n",
       "      <td>0</td>\n",
       "      <td>0</td>\n",
       "      <td>-1</td>\n",
       "      <td>-1</td>\n",
       "      <td>...</td>\n",
       "      <td>138937</td>\n",
       "      <td>1795451</td>\n",
       "      <td>29196072</td>\n",
       "      <td>15351056</td>\n",
       "      <td>0</td>\n",
       "      <td>28474333_-1</td>\n",
       "      <td>7.487274e-07</td>\n",
       "      <td>0.003426</td>\n",
       "      <td>[0.0, 0.0, 0.0, 0.0, 0.0, 1.0, 0.0, 0.0, 0.0, ...</td>\n",
       "      <td>[0.0, 0.0, 0.0, 0.0, 0.0, 0.0, 0.0, 0.0, 0.0, ...</td>\n",
       "    </tr>\n",
       "    <tr>\n",
       "      <th>387213</th>\n",
       "      <td>3</td>\n",
       "      <td>7306395</td>\n",
       "      <td>29427842</td>\n",
       "      <td>1</td>\n",
       "      <td>1449193</td>\n",
       "      <td>3063962</td>\n",
       "      <td>0</td>\n",
       "      <td>1</td>\n",
       "      <td>0</td>\n",
       "      <td>7</td>\n",
       "      <td>...</td>\n",
       "      <td>1973606</td>\n",
       "      <td>9180723</td>\n",
       "      <td>29841067</td>\n",
       "      <td>29196072</td>\n",
       "      <td>0</td>\n",
       "      <td>7306395_3063962</td>\n",
       "      <td>1.123091e-06</td>\n",
       "      <td>0.000000</td>\n",
       "      <td>[0.0, 0.0, 0.0, 0.0, 1.0, 0.0, 0.0, 0.0, 0.0, ...</td>\n",
       "      <td>[0.0, 0.0, 0.0, 0.0, 0.0, 0.0, 1.0, 0.0, 0.0, ...</td>\n",
       "    </tr>\n",
       "    <tr>\n",
       "      <th>401488</th>\n",
       "      <td>4</td>\n",
       "      <td>93907</td>\n",
       "      <td>17686799</td>\n",
       "      <td>0</td>\n",
       "      <td>-1</td>\n",
       "      <td>-1</td>\n",
       "      <td>0</td>\n",
       "      <td>1</td>\n",
       "      <td>-1</td>\n",
       "      <td>-1</td>\n",
       "      <td>...</td>\n",
       "      <td>1973606</td>\n",
       "      <td>2687461</td>\n",
       "      <td>29841067</td>\n",
       "      <td>21091108</td>\n",
       "      <td>0</td>\n",
       "      <td>93907_-1</td>\n",
       "      <td>1.497455e-06</td>\n",
       "      <td>0.101299</td>\n",
       "      <td>[0.0, 1.0, 0.0, 0.0, 0.0, 0.0, 0.0, 0.0, 0.0, ...</td>\n",
       "      <td>[0.0, 0.0, 1.0, 0.0, 0.0, 0.0, 0.0, 0.0, 0.0, ...</td>\n",
       "    </tr>\n",
       "    <tr>\n",
       "      <th>14394</th>\n",
       "      <td>4</td>\n",
       "      <td>19923387</td>\n",
       "      <td>31772643</td>\n",
       "      <td>0</td>\n",
       "      <td>-1</td>\n",
       "      <td>-1</td>\n",
       "      <td>0</td>\n",
       "      <td>0</td>\n",
       "      <td>-1</td>\n",
       "      <td>-1</td>\n",
       "      <td>...</td>\n",
       "      <td>32440041</td>\n",
       "      <td>14074087</td>\n",
       "      <td>29196072</td>\n",
       "      <td>21091108</td>\n",
       "      <td>0</td>\n",
       "      <td>19923387_-1</td>\n",
       "      <td>1.497455e-06</td>\n",
       "      <td>0.069316</td>\n",
       "      <td>[0.0, 1.0, 0.0, 0.0, 0.0, 0.0, 0.0, 0.0, 0.0, ...</td>\n",
       "      <td>[0.0, 1.0, 0.0, 0.0, 0.0, 0.0, 0.0, 0.0, 0.0, ...</td>\n",
       "    </tr>\n",
       "    <tr>\n",
       "      <th>473426</th>\n",
       "      <td>4</td>\n",
       "      <td>28451570</td>\n",
       "      <td>20843295</td>\n",
       "      <td>0</td>\n",
       "      <td>-1</td>\n",
       "      <td>-1</td>\n",
       "      <td>0</td>\n",
       "      <td>0</td>\n",
       "      <td>-1</td>\n",
       "      <td>-1</td>\n",
       "      <td>...</td>\n",
       "      <td>28928366</td>\n",
       "      <td>8556462</td>\n",
       "      <td>29196072</td>\n",
       "      <td>29196072</td>\n",
       "      <td>0</td>\n",
       "      <td>28451570_-1</td>\n",
       "      <td>1.497455e-06</td>\n",
       "      <td>0.000000</td>\n",
       "      <td>[0.0, 0.0, 0.0, 0.0, 0.0, 1.0, 0.0, 0.0, 0.0, ...</td>\n",
       "      <td>[0.0, 0.0, 0.0, 0.0, 0.0, 0.0, 0.0, 0.0, 0.0, ...</td>\n",
       "    </tr>\n",
       "  </tbody>\n",
       "</table>\n",
       "<p>5 rows × 28 columns</p>\n",
       "</div>"
      ],
      "text/plain": [
       "       timestamp       uid  campaign conversion conversion_timestamp  \\\n",
       "65528          2  28474333  18975823          0                   -1   \n",
       "387213         3   7306395  29427842          1              1449193   \n",
       "401488         4     93907  17686799          0                   -1   \n",
       "14394          4  19923387  31772643          0                   -1   \n",
       "473426         4  28451570  20843295          0                   -1   \n",
       "\n",
       "       conversion_id attribution click click_pos click_nb  ...      cat6  \\\n",
       "65528             -1           0     0        -1       -1  ...    138937   \n",
       "387213       3063962           0     1         0        7  ...   1973606   \n",
       "401488            -1           0     1        -1       -1  ...   1973606   \n",
       "14394             -1           0     0        -1       -1  ...  32440041   \n",
       "473426            -1           0     0        -1       -1  ...  28928366   \n",
       "\n",
       "            cat7      cat8      cat9 day              jid timestamp_norm  \\\n",
       "65528    1795451  29196072  15351056   0      28474333_-1   7.487274e-07   \n",
       "387213   9180723  29841067  29196072   0  7306395_3063962   1.123091e-06   \n",
       "401488   2687461  29841067  21091108   0         93907_-1   1.497455e-06   \n",
       "14394   14074087  29196072  21091108   0      19923387_-1   1.497455e-06   \n",
       "473426   8556462  29196072  29196072   0      28451570_-1   1.497455e-06   \n",
       "\n",
       "       time_since_last_click_norm  \\\n",
       "65528                    0.003426   \n",
       "387213                   0.000000   \n",
       "401488                   0.101299   \n",
       "14394                    0.069316   \n",
       "473426                   0.000000   \n",
       "\n",
       "                                                     cats  \\\n",
       "65528   [0.0, 0.0, 0.0, 0.0, 0.0, 1.0, 0.0, 0.0, 0.0, ...   \n",
       "387213  [0.0, 0.0, 0.0, 0.0, 1.0, 0.0, 0.0, 0.0, 0.0, ...   \n",
       "401488  [0.0, 1.0, 0.0, 0.0, 0.0, 0.0, 0.0, 0.0, 0.0, ...   \n",
       "14394   [0.0, 1.0, 0.0, 0.0, 0.0, 0.0, 0.0, 0.0, 0.0, ...   \n",
       "473426  [0.0, 0.0, 0.0, 0.0, 0.0, 1.0, 0.0, 0.0, 0.0, ...   \n",
       "\n",
       "                                                campaigns  \n",
       "65528   [0.0, 0.0, 0.0, 0.0, 0.0, 0.0, 0.0, 0.0, 0.0, ...  \n",
       "387213  [0.0, 0.0, 0.0, 0.0, 0.0, 0.0, 1.0, 0.0, 0.0, ...  \n",
       "401488  [0.0, 0.0, 1.0, 0.0, 0.0, 0.0, 0.0, 0.0, 0.0, ...  \n",
       "14394   [0.0, 1.0, 0.0, 0.0, 0.0, 0.0, 0.0, 0.0, 0.0, ...  \n",
       "473426  [0.0, 0.0, 0.0, 0.0, 0.0, 0.0, 0.0, 0.0, 0.0, ...  \n",
       "\n",
       "[5 rows x 28 columns]"
      ]
     },
     "execution_count": 25,
     "metadata": {},
     "output_type": "execute_result"
    }
   ],
   "source": [
    "df_Criteo_Attribution.head()"
   ]
  },
  {
   "cell_type": "markdown",
   "metadata": {},
   "source": [
    "## Logistic Regression"
   ]
  },
  {
   "cell_type": "markdown",
   "metadata": {},
   "source": [
    "Lets prepare the features for Logistic Regression. We treat this as a Sequence to classification problem. "
   ]
  },
  {
   "cell_type": "code",
   "execution_count": 26,
   "metadata": {},
   "outputs": [],
   "source": [
    "def features_for_logistic_regression(df):\n",
    "\n",
    "    def pairwise_max(series):\n",
    "        return np.max(series.tolist(), axis = 0).tolist()\n",
    "    \n",
    "    aggregation = {\n",
    "        'campaigns': pairwise_max,\n",
    "        'cats': pairwise_max,\n",
    "        'click': 'sum',\n",
    "        'cost': 'sum',\n",
    "        'conversion': 'max'\n",
    "    }\n",
    "    \n",
    "    df_agg = df.groupby(['jid']).agg(aggregation)\n",
    "    \n",
    "    df_agg['features'] = df_agg[['campaigns', 'cats', 'click', 'cost']].values.tolist()\n",
    "    \n",
    "    return (\n",
    "        np.stack(df_agg['features'].map(lambda x: np.hstack(x)).values),\n",
    "        df_agg['conversion'].values\n",
    "    )"
   ]
  },
  {
   "cell_type": "code",
   "execution_count": 27,
   "metadata": {},
   "outputs": [
    {
     "name": "stdout",
     "output_type": "stream",
     "text": [
      "(125836, 1629)\n"
     ]
    }
   ],
   "source": [
    "x, y = features_for_logistic_regression(df_Criteo_Attribution)\n",
    "print(np.shape(x))"
   ]
  },
  {
   "cell_type": "code",
   "execution_count": 28,
   "metadata": {},
   "outputs": [],
   "source": [
    "from sklearn.model_selection import train_test_split\n",
    "\n",
    "x_train, x_test, y_train, y_test = train_test_split(x, y, test_size = 0.20, random_state = 1)\n",
    "x_train, x_val, y_train, y_val = train_test_split(x_train, y_train, test_size = 0.20, random_state = 1)"
   ]
  },
  {
   "cell_type": "code",
   "execution_count": 29,
   "metadata": {},
   "outputs": [
    {
     "name": "stdout",
     "output_type": "stream",
     "text": [
      "0.8756357279084552\n"
     ]
    }
   ],
   "source": [
    "# Quick sanity check\n",
    "from sklearn.linear_model import LogisticRegression\n",
    "\n",
    "logisticRegr = LogisticRegression()\n",
    "logisticRegr.fit(x_train, y_train)\n",
    "score = logisticRegr.score(x_test, y_test)\n",
    "print(score)"
   ]
  },
  {
   "cell_type": "code",
   "execution_count": 30,
   "metadata": {},
   "outputs": [
    {
     "name": "stdout",
     "output_type": "stream",
     "text": [
      "Train on 80534 samples, validate on 20134 samples\n",
      "Epoch 1/10\n",
      "80534/80534 [==============================] - 3s 32us/step - loss: 0.5328 - acc: 0.7688 - val_loss: 0.4679 - val_acc: 0.8161\n",
      "Epoch 2/10\n",
      "80534/80534 [==============================] - 2s 28us/step - loss: 0.4519 - acc: 0.8229 - val_loss: 0.4320 - val_acc: 0.8301\n",
      "Epoch 3/10\n",
      "80534/80534 [==============================] - 2s 26us/step - loss: 0.4253 - acc: 0.8350 - val_loss: 0.4123 - val_acc: 0.8402\n",
      "Epoch 4/10\n",
      "80534/80534 [==============================] - 3s 32us/step - loss: 0.4090 - acc: 0.8428 - val_loss: 0.3993 - val_acc: 0.8469\n",
      "Epoch 5/10\n",
      "80534/80534 [==============================] - 2s 29us/step - loss: 0.3975 - acc: 0.8474 - val_loss: 0.3901 - val_acc: 0.8529\n",
      "Epoch 6/10\n",
      "80534/80534 [==============================] - 2s 30us/step - loss: 0.3889 - acc: 0.8519 - val_loss: 0.3827 - val_acc: 0.8548\n",
      "Epoch 7/10\n",
      "80534/80534 [==============================] - 2s 30us/step - loss: 0.3823 - acc: 0.8538 - val_loss: 0.3770 - val_acc: 0.8566\n",
      "Epoch 8/10\n",
      "80534/80534 [==============================] - 2s 28us/step - loss: 0.3767 - acc: 0.8560 - val_loss: 0.3721 - val_acc: 0.8582\n",
      "Epoch 9/10\n",
      "80534/80534 [==============================] - 3s 33us/step - loss: 0.3721 - acc: 0.8578 - val_loss: 0.3680 - val_acc: 0.8593\n",
      "Epoch 10/10\n",
      "80534/80534 [==============================] - 2s 30us/step - loss: 0.3681 - acc: 0.8579 - val_loss: 0.3647 - val_acc: 0.8612\n",
      "Test score: 0.3659233859368971\n",
      "Test accuracy: 0.859504132231405\n"
     ]
    }
   ],
   "source": [
    "from keras.models import Sequential \n",
    "from keras.layers import Dense, Dropout\n",
    "from keras.constraints import NonNeg\n",
    "\n",
    "m = np.shape(x)[1]\n",
    "    \n",
    "model = Sequential()  \n",
    "model.add(Dense(1, input_dim=m, activation='sigmoid', name = 'contributions')) \n",
    "\n",
    "model.compile(optimizer='adadelta', loss='binary_crossentropy', metrics=['accuracy']) \n",
    "history = model.fit(x_train, y_train, batch_size=128, epochs=10, verbose=1, validation_data=(x_val, y_val)) \n",
    "score = model.evaluate(x_test, y_test, verbose=0) \n",
    "print('Test score:', score[0]) \n",
    "print('Test accuracy:', score[1])"
   ]
  },
  {
   "cell_type": "code",
   "execution_count": 31,
   "metadata": {},
   "outputs": [
    {
     "name": "stdout",
     "output_type": "stream",
     "text": [
      "Train on 80534 samples, validate on 20134 samples\n",
      "Epoch 1/20\n",
      "80534/80534 [==============================] - 2s 24us/step - loss: 0.5212 - acc: 0.7909 - val_loss: 0.4649 - val_acc: 0.8210\n",
      "Epoch 2/20\n",
      "80534/80534 [==============================] - 2s 28us/step - loss: 0.4492 - acc: 0.8248 - val_loss: 0.4298 - val_acc: 0.8327\n",
      "Epoch 3/20\n",
      "80534/80534 [==============================] - 2s 24us/step - loss: 0.4234 - acc: 0.8366 - val_loss: 0.4112 - val_acc: 0.8406\n",
      "Epoch 4/20\n",
      "80534/80534 [==============================] - 3s 41us/step - loss: 0.4078 - acc: 0.8437 - val_loss: 0.3985 - val_acc: 0.8482\n",
      "Epoch 5/20\n",
      "80534/80534 [==============================] - 3s 35us/step - loss: 0.3967 - acc: 0.8481 - val_loss: 0.3892 - val_acc: 0.8520\n",
      "Epoch 6/20\n",
      "80534/80534 [==============================] - 3s 32us/step - loss: 0.3881 - acc: 0.8521 - val_loss: 0.3823 - val_acc: 0.8547\n",
      "Epoch 7/20\n",
      "80534/80534 [==============================] - 2s 25us/step - loss: 0.3815 - acc: 0.8537 - val_loss: 0.3765 - val_acc: 0.8571\n",
      "Epoch 8/20\n",
      "80534/80534 [==============================] - 2s 25us/step - loss: 0.3758 - acc: 0.8562 - val_loss: 0.3713 - val_acc: 0.8590\n",
      "Epoch 9/20\n",
      "80534/80534 [==============================] - 2s 26us/step - loss: 0.3710 - acc: 0.8579 - val_loss: 0.3673 - val_acc: 0.8602\n",
      "Epoch 10/20\n",
      "80534/80534 [==============================] - 3s 35us/step - loss: 0.3670 - acc: 0.8598 - val_loss: 0.3637 - val_acc: 0.8618\n",
      "Epoch 11/20\n",
      "80534/80534 [==============================] - 2s 29us/step - loss: 0.3634 - acc: 0.8611 - val_loss: 0.3606 - val_acc: 0.8626\n",
      "Epoch 12/20\n",
      "80534/80534 [==============================] - 2s 30us/step - loss: 0.3602 - acc: 0.8626 - val_loss: 0.3582 - val_acc: 0.8626\n",
      "Epoch 13/20\n",
      "80534/80534 [==============================] - 2s 28us/step - loss: 0.3575 - acc: 0.8627 - val_loss: 0.3552 - val_acc: 0.8638\n",
      "Epoch 14/20\n",
      "80534/80534 [==============================] - 2s 29us/step - loss: 0.3549 - acc: 0.8637 - val_loss: 0.3530 - val_acc: 0.8650\n",
      "Epoch 15/20\n",
      "80534/80534 [==============================] - 2s 28us/step - loss: 0.3526 - acc: 0.8649 - val_loss: 0.3510 - val_acc: 0.8649\n",
      "Epoch 16/20\n",
      "80534/80534 [==============================] - 2s 28us/step - loss: 0.3505 - acc: 0.8654 - val_loss: 0.3492 - val_acc: 0.8664\n",
      "Epoch 17/20\n",
      "80534/80534 [==============================] - 3s 34us/step - loss: 0.3485 - acc: 0.8657 - val_loss: 0.3473 - val_acc: 0.8670\n",
      "Epoch 18/20\n",
      "80534/80534 [==============================] - 2s 28us/step - loss: 0.3467 - acc: 0.8668 - val_loss: 0.3459 - val_acc: 0.8672\n",
      "Epoch 19/20\n",
      "80534/80534 [==============================] - 2s 27us/step - loss: 0.3450 - acc: 0.8679 - val_loss: 0.3442 - val_acc: 0.8676\n",
      "Epoch 20/20\n",
      "80534/80534 [==============================] - 2s 27us/step - loss: 0.3434 - acc: 0.8675 - val_loss: 0.3428 - val_acc: 0.8677\n",
      "Test score: 0.3446481671783474\n",
      "Test accuracy: 0.8664176732358551\n"
     ]
    }
   ],
   "source": [
    "from keras.models import Sequential \n",
    "from keras.layers import Dense, Dropout\n",
    "from keras.constraints import NonNeg\n",
    "\n",
    "m = np.shape(x)[1]\n",
    "    \n",
    "model1 = Sequential()  \n",
    "model1.add(Dense(1, input_dim=m, activation='sigmoid', name = 'contributions')) \n",
    "\n",
    "model1.compile(optimizer='adamax', loss='binary_crossentropy', metrics=['accuracy']) \n",
    "history = model1.fit(x_train, y_train, batch_size=64, epochs=20, verbose=1, validation_data=(x_val, y_val)) \n",
    "score = model1.evaluate(x_test, y_test, verbose=0) \n",
    "print('Test score:', score[0]) \n",
    "print('Test accuracy:', score[1])"
   ]
  },
  {
   "cell_type": "code",
   "execution_count": 32,
   "metadata": {},
   "outputs": [
    {
     "data": {
      "image/png": "[encoded data removed]",
      "text/plain": [
       "<Figure size 1080x288 with 1 Axes>"
      ]
     },
     "metadata": {},
     "output_type": "display_data"
    }
   ],
   "source": [
    "# Visualization of the attribution scores\n",
    "from sklearn.utils.extmath import softmax\n",
    "\n",
    "campaign_idx = range(150, 250)\n",
    "\n",
    "keras_logistic = model1.get_layer('contributions').get_weights()[0].flatten()[0:n_campaigns]\n",
    "keras_logistic = softmax([keras_logistic]).flatten()\n",
    "\n",
    "fig = plt.figure(figsize=(15,4))\n",
    "ax = fig.add_subplot(111)\n",
    "plt.bar(range(len(keras_logistic[campaign_idx])), keras_logistic[campaign_idx] )\n",
    "plt.xlabel('Campaign ID')\n",
    "plt.ylabel('Return per impression')\n",
    "plt.show()"
   ]
  },
  {
   "cell_type": "markdown",
   "metadata": {},
   "source": [
    "#### Attribution Weights"
   ]
  },
  {
   "cell_type": "code",
   "execution_count": 33,
   "metadata": {},
   "outputs": [
    {
     "data": {
      "text/plain": [
       "array([0.00232201, 0.00312844, 0.00147883, 0.00216226, 0.00149577,\n",
       "       0.00300418, 0.00190545, 0.00242166, 0.00234553, 0.00199198,\n",
       "       0.00304257, 0.00127012, 0.002335  , 0.00233377, 0.00220571,\n",
       "       0.00158466, 0.00407273, 0.00156299, 0.00164922, 0.0021392 ,\n",
       "       0.00383461, 0.00157069, 0.00204161, 0.0024412 , 0.00232036,\n",
       "       0.00318704, 0.00299496, 0.00158254, 0.00310078, 0.00324086,\n",
       "       0.00267555, 0.00246236, 0.00273928, 0.0020281 , 0.00186485,\n",
       "       0.00294264, 0.00267993, 0.00217368, 0.00175291, 0.00324061,\n",
       "       0.00123323, 0.00165512, 0.00385873, 0.00272411, 0.00256467,\n",
       "       0.00149354, 0.0020203 , 0.00237623, 0.00237004, 0.00143968,\n",
       "       0.00261711, 0.00255414, 0.00120577, 0.00233123, 0.00223594,\n",
       "       0.00291015, 0.00227793, 0.00319012, 0.00250513, 0.00295825,\n",
       "       0.00244498, 0.00173654, 0.00287467, 0.00196191, 0.00270316,\n",
       "       0.00283313, 0.00276377, 0.00141506, 0.00198851, 0.002226  ,\n",
       "       0.0022142 , 0.002957  , 0.00237284, 0.00184711, 0.00398447,\n",
       "       0.00290959, 0.00224241, 0.00275927, 0.00195874, 0.00295741,\n",
       "       0.00299836, 0.00259643, 0.00177197, 0.00298333, 0.00153024,\n",
       "       0.00233061, 0.00323939, 0.00231994, 0.00310393, 0.00232224,\n",
       "       0.00149193, 0.00123232, 0.00169259, 0.0020472 , 0.00326036,\n",
       "       0.00184204, 0.00134732, 0.00231196, 0.00207757, 0.00237668,\n",
       "       0.00170854, 0.00265998, 0.0021825 , 0.00165926, 0.00203214,\n",
       "       0.00341749, 0.00180094, 0.00261549, 0.0023284 , 0.00233019,\n",
       "       0.00181426, 0.00276479, 0.00302626, 0.00195142, 0.00193424,\n",
       "       0.00303844, 0.00167702, 0.00090306, 0.00255445, 0.00247164,\n",
       "       0.00150315, 0.00319685, 0.00217567, 0.00219329, 0.00420226,\n",
       "       0.00249244, 0.00409718, 0.00312885, 0.00244662, 0.00180974,\n",
       "       0.0035163 , 0.00200053, 0.0016108 , 0.00168856, 0.00220603,\n",
       "       0.00254028, 0.00133331, 0.00252674, 0.00114928, 0.00219834,\n",
       "       0.00238455, 0.00170947, 0.00265723, 0.00251188, 0.00199954,\n",
       "       0.00379908, 0.00147009, 0.00189812, 0.00239122, 0.0023607 ,\n",
       "       0.00236898, 0.00315252, 0.00288318, 0.00338961, 0.00211765,\n",
       "       0.00194602, 0.0016509 , 0.00229216, 0.00300042, 0.00221119,\n",
       "       0.00303478, 0.00146682, 0.00235859, 0.00338515, 0.00130111,\n",
       "       0.00234187, 0.00187442, 0.00361235, 0.00256929, 0.00097819,\n",
       "       0.00247682, 0.00270893, 0.00281102, 0.00249069, 0.00173842,\n",
       "       0.00236738, 0.00123619, 0.00237686, 0.00155568, 0.00376437,\n",
       "       0.00225509, 0.00157626, 0.00293553, 0.00286035, 0.00127973,\n",
       "       0.00374598, 0.00277151, 0.00114708, 0.00215908, 0.00310834,\n",
       "       0.00303219, 0.00243335, 0.00217646, 0.00314084, 0.0023129 ,\n",
       "       0.00452026, 0.0013286 , 0.00303098, 0.00225342, 0.00234003,\n",
       "       0.00183635, 0.00318136, 0.00136813, 0.00265033, 0.0016096 ,\n",
       "       0.00220908, 0.00155139, 0.00141063, 0.00316888, 0.00231163,\n",
       "       0.00332919, 0.00254331, 0.00260097, 0.00233426, 0.00278758,\n",
       "       0.00273381, 0.0039552 , 0.00281465, 0.00310587, 0.00246425,\n",
       "       0.00317319, 0.00279219, 0.00138498, 0.00270572, 0.00109172,\n",
       "       0.00193507, 0.00159983, 0.00157585, 0.00228629, 0.00267675,\n",
       "       0.00250656, 0.00315556, 0.0031589 , 0.0025433 , 0.00244784,\n",
       "       0.00187343, 0.00219367, 0.00211443, 0.00312527, 0.00289234,\n",
       "       0.00267583, 0.00293342, 0.00320602, 0.0012382 , 0.00130347,\n",
       "       0.00280307, 0.00288124, 0.00226974, 0.00230278, 0.00234222,\n",
       "       0.00280751, 0.00307858, 0.00255496, 0.00296935, 0.00313148,\n",
       "       0.0025567 , 0.00232066, 0.00209749, 0.00311161, 0.00234828,\n",
       "       0.0029249 , 0.00323772, 0.00207685, 0.0032234 , 0.002643  ,\n",
       "       0.00286305, 0.00222984, 0.00212938, 0.00321412, 0.00200127,\n",
       "       0.00253849, 0.00241298, 0.00148454, 0.00376235, 0.00196781,\n",
       "       0.00264133, 0.00183385, 0.0024807 , 0.00217357, 0.0038135 ,\n",
       "       0.00250409, 0.00249679, 0.00253383, 0.0024395 , 0.00260897,\n",
       "       0.00265376, 0.00361372, 0.00298407, 0.0024802 , 0.00301731,\n",
       "       0.00430494, 0.0036944 , 0.00182334, 0.00182351, 0.00269895,\n",
       "       0.00232411, 0.00193989, 0.00330693, 0.00181645, 0.00213645,\n",
       "       0.00109786, 0.00302584, 0.00227838, 0.00228404, 0.00183253,\n",
       "       0.00232951, 0.00220401, 0.00306688, 0.00283744, 0.00297602,\n",
       "       0.00156286, 0.00120439, 0.00325327, 0.00363858, 0.00213099,\n",
       "       0.00364348, 0.00234731, 0.0023761 , 0.001769  , 0.00277138,\n",
       "       0.00267133, 0.00277307, 0.0031343 , 0.00192376, 0.0036406 ,\n",
       "       0.00241911, 0.00278935, 0.00212614, 0.00117821, 0.00342888,\n",
       "       0.00340408, 0.00370145, 0.00220241, 0.00283557, 0.00262768,\n",
       "       0.00242307, 0.00301166, 0.00261338, 0.00342856, 0.00306867,\n",
       "       0.00340587, 0.00322376, 0.00297772, 0.004122  , 0.00233625,\n",
       "       0.00361564, 0.0023431 , 0.00317122, 0.00191535, 0.00272306,\n",
       "       0.00304413, 0.00221179, 0.00260073, 0.00253207, 0.0020155 ,\n",
       "       0.00242819, 0.0029969 , 0.00257213, 0.00257827, 0.00251388,\n",
       "       0.00293931, 0.00270601, 0.00244188, 0.00269488, 0.00319098,\n",
       "       0.00274873, 0.00342024, 0.00263727, 0.00246534, 0.00261477,\n",
       "       0.00251394, 0.00286574, 0.0031204 , 0.00279109, 0.0029329 ,\n",
       "       0.002812  , 0.00284738, 0.00195759, 0.00285859, 0.00282196,\n",
       "       0.00316421, 0.00330945, 0.0030264 , 0.00279666, 0.0028611 ,\n",
       "       0.00224096, 0.0035704 , 0.00231234, 0.00314492, 0.00353599,\n",
       "       0.0031927 , 0.00217528, 0.00208033, 0.00339458, 0.00380206,\n",
       "       0.00270229, 0.00227158, 0.0025748 , 0.00326168, 0.00304329],\n",
       "      dtype=float32)"
      ]
     },
     "execution_count": 33,
     "metadata": {},
     "output_type": "execute_result"
    }
   ],
   "source": [
    "keras_logistic"
   ]
  },
  {
   "cell_type": "code",
   "execution_count": 34,
   "metadata": {},
   "outputs": [],
   "source": [
    "np.savetxt(\"logistic.txt\",keras_logistic)"
   ]
  },
  {
   "cell_type": "code",
   "execution_count": null,
   "metadata": {},
   "outputs": [],
   "source": []
  }
 ],
 "metadata": {
  "kernelspec": {
   "display_name": "Python 3",
   "language": "python",
   "name": "python3"
  },
  "language_info": {
   "codemirror_mode": {
    "name": "ipython",
    "version": 3
   },
   "file_extension": ".py",
   "mimetype": "text/x-python",
   "name": "python",
   "nbconvert_exporter": "python",
   "pygments_lexer": "ipython3",
   "version": "3.6.5"
  }
 },
 "nbformat": 4,
 "nbformat_minor": 2
}
